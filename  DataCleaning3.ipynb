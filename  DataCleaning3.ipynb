{
 "cells": [
  {
   "cell_type": "code",
   "execution_count": null,
   "metadata": {},
   "outputs": [],
   "source": [
    "from datetime import date\n",
    "\n",
    "today = date.today()\n",
    "print(\"Today's date:\", today)"
   ]
  },
  {
   "cell_type": "code",
   "execution_count": null,
   "metadata": {},
   "outputs": [],
   "source": [
    "import pandas as pd"
   ]
  },
  {
   "cell_type": "code",
   "execution_count": null,
   "metadata": {},
   "outputs": [],
   "source": [
    "data = pd.read_csv(\"../2020-03-17-Data - Interim_Manager_filled.csv\")"
   ]
  },
  {
   "cell_type": "code",
   "execution_count": null,
   "metadata": {},
   "outputs": [],
   "source": [
    "data.head()"
   ]
  },
  {
   "cell_type": "code",
   "execution_count": null,
   "metadata": {},
   "outputs": [],
   "source": [
    "data['Rating'].unique()"
   ]
  },
  {
   "cell_type": "code",
   "execution_count": null,
   "metadata": {},
   "outputs": [],
   "source": [
    "data_copy = data.copy()"
   ]
  },
  {
   "cell_type": "code",
   "execution_count": null,
   "metadata": {},
   "outputs": [],
   "source": [
    "'''\n",
    "A1, FAIR (C=0.7,B =0.3)\n",
    "A1, GOOD (C=0.3,B =0.7)\n",
    "A2, FAIR (C= 0.6, B =0.4)\n",
    "A2, GOOD (C= 0.4, B = 0.6)\n",
    "A3, GOOD (A=0.25, B = 0.75)\n",
    "Manager (A =0.8, B = 0.2)\n",
    "P1 (A =0.9, B = 0.1)\n",
    "P2 (A =0.9, B = 0.1)\n",
    "'''\n"
   ]
  },
  {
   "cell_type": "code",
   "execution_count": null,
   "metadata": {},
   "outputs": [],
   "source": [
    "import random\n",
    "SALARY_A1_FAIR =['C','C','C','B','C','C','C','B','C','B']\n",
    "SALARY_A1_GOOD = ['B','B','B','C','B','B','B','C','B','C']\n",
    "tracker = 0\n",
    "for i in range(len(data_copy)):\n",
    "    if ((data_copy['Band'][i] == \"A1\") and (data_copy['Attrition Status'][i] == 'No')):\n",
    "        if(data_copy['Salary'][i] == 'Fair'):\n",
    "            data_copy['Rating'][i] = random.choice(SALARY_A1_FAIR)\n",
    "            tracker = tracker + 1\n",
    "        elif (data_copy['Salary'][i] == 'Good'):\n",
    "            data_copy['Rating'][i] = random.choice(SALARY_A1_GOOD)\n",
    "            tracker = tracker + 1\n",
    "        else:\n",
    "            print(\"Problem!\")\n",
    "print(\"Cases Solved: \",+tracker)\n"
   ]
  },
  {
   "cell_type": "code",
   "execution_count": null,
   "metadata": {
    "scrolled": true
   },
   "outputs": [],
   "source": [
    "#A2\n",
    "SALARY_A2_FAIR =['C','C','C','B','C','B','C','B','C','B']\n",
    "SALARY_A2_GOOD = ['B','B','B','C','B','C','B','C','B','C']\n",
    "tracker = 0\n",
    "for i in range(len(data_copy)):\n",
    "    if ((data_copy['Band'][i] == \"A2\") and (data_copy['Attrition Status'][i] == 'No')):\n",
    "        if(data_copy['Salary'][i] == 'Fair'):\n",
    "            data_copy['Rating'][i] = random.choice(SALARY_A2_FAIR)\n",
    "            tracker = tracker + 1\n",
    "        elif (data_copy['Salary'][i] == 'Good'):\n",
    "            data_copy['Rating'][i] = random.choice(SALARY_A2_GOOD)\n",
    "            tracker = tracker + 1\n",
    "        else:\n",
    "            print(\"Problem!\")\n",
    "print(\"Cases Solved: \",+tracker)\n"
   ]
  },
  {
   "cell_type": "code",
   "execution_count": null,
   "metadata": {},
   "outputs": [],
   "source": [
    "#A3\n",
    "\n",
    "SALARY_A3_GOOD = ['B','B','B','A','B','A','B','B','B','C']\n",
    "tracker = 0\n",
    "for i in range(len(data_copy)):\n",
    "    if ((data_copy['Band'][i] == \"A3\") and (data_copy['Attrition Status'][i] == 'No')):\n",
    "        if (data_copy['Salary'][i] == 'Good'):\n",
    "            data_copy['Rating'][i] = random.choice(SALARY_A3_GOOD)\n",
    "            tracker = tracker + 1\n",
    "        else:\n",
    "            print(\"Problem!\")\n",
    "print(\"Cases Solved: \",+tracker)"
   ]
  },
  {
   "cell_type": "code",
   "execution_count": null,
   "metadata": {},
   "outputs": [],
   "source": [
    "#Manager\n",
    "SALARY_MANAGER = ['A','A','A','B','A','B','A','A','A','A']\n",
    "tracker = 0\n",
    "for i in range(len(data_copy)):\n",
    "    if ((data_copy['Band'][i] == \"Manager\") and (data_copy['Attrition Status'][i] == 'No')):\n",
    "        data_copy['Rating'][i] = random.choice(SALARY_MANAGER)\n",
    "        tracker = tracker + 1\n",
    "    else:\n",
    "        print(\"Problem!\")\n",
    "print(\"Cases Solved: \",+tracker)"
   ]
  },
  {
   "cell_type": "code",
   "execution_count": null,
   "metadata": {},
   "outputs": [],
   "source": [
    "count = 0\n",
    "for i in range(len(data)):\n",
    "    if data['Band'][i] == 'P2':\n",
    "        count = count + 1\n",
    "print(count)"
   ]
  },
  {
   "cell_type": "code",
   "execution_count": null,
   "metadata": {},
   "outputs": [],
   "source": [
    "SALARY_P1P2 = ['A','A','A','B','A','A','A','A','A','A']\n",
    "tracker = 0\n",
    "tracker2 = 0\n",
    "for i in range(len(data_copy)):\n",
    "    if ((data_copy['Band'][i] == \"P1\") or (data_copy['Band'][i] == \"P2\")) and ((data_copy['Attrition Status'][i] == 'No')):\n",
    "        data_copy['Rating'][i] = random.choice(SALARY_P1P2)\n",
    "        tracker = tracker + 1\n",
    "    else:\n",
    "        print(\"PRE-FILLED\")\n",
    "        tracker2 = tracker2 + 1\n",
    "print(\"Cases Solved: \",+tracker)\n",
    "print(tracker2)"
   ]
  },
  {
   "cell_type": "code",
   "execution_count": null,
   "metadata": {},
   "outputs": [],
   "source": [
    "data_copy['Rating'].unique()"
   ]
  },
  {
   "cell_type": "code",
   "execution_count": null,
   "metadata": {},
   "outputs": [],
   "source": [
    "data_copy.to_csv(\"../2020-03-17.csv\")"
   ]
  },
  {
   "cell_type": "code",
   "execution_count": null,
   "metadata": {},
   "outputs": [],
   "source": [
    "data_copy.head()"
   ]
  },
  {
   "cell_type": "code",
   "execution_count": null,
   "metadata": {},
   "outputs": [],
   "source": [
    "#BadManagers(>35%)=>Unhappy Employees\n",
    "#Happiness = function(Salary,Badass-Manager,Distance From Home,)\n",
    "#4200"
   ]
  },
  {
   "cell_type": "code",
   "execution_count": null,
   "metadata": {},
   "outputs": [],
   "source": [
    "'''\n",
    "12000 (0-40)=>(.....,[60-70][70-80%])\n",
    "[0-10]\n",
    "[10-20]\n",
    "[20-30]\n",
    "[30-40]\n",
    "[40-50]\n",
    "[50-60]\n",
    "[60-70]\n",
    "[70-80]\n",
    "'''"
   ]
  },
  {
   "cell_type": "code",
   "execution_count": null,
   "metadata": {},
   "outputs": [],
   "source": [
    "'''4200=>(manager?, distance?, salary?,happi. index?)'''"
   ]
  },
  {
   "cell_type": "code",
   "execution_count": null,
   "metadata": {},
   "outputs": [],
   "source": [
    "import random\n",
    "filled_indices = []\n",
    "count = 800\n",
    "while(count>0):\n",
    "    temp = random.randrange(0,12000)\n",
    "    if temp not in filled_indices:\n",
    "        data_copy['Distance from current address'][temp] = '0-10'\n",
    "        filled_indices.append(temp)\n",
    "        count = count - 1\n",
    "        "
   ]
  },
  {
   "cell_type": "code",
   "execution_count": null,
   "metadata": {},
   "outputs": [],
   "source": [
    "print(len(filled_indices))"
   ]
  },
  {
   "cell_type": "code",
   "execution_count": null,
   "metadata": {},
   "outputs": [],
   "source": [
    "count = 2600\n",
    "while(count>0):\n",
    "    temp = random.randrange(0,12000)\n",
    "    if temp not in filled_indices:\n",
    "        data_copy['Distance from current address'][temp] = '10-20'\n",
    "        filled_indices.append(temp)\n",
    "        count = count - 1"
   ]
  },
  {
   "cell_type": "code",
   "execution_count": null,
   "metadata": {},
   "outputs": [],
   "source": [
    "count = 2500\n",
    "while(count>0):\n",
    "    temp = random.randrange(0,12000)\n",
    "    if temp not in filled_indices:\n",
    "        data_copy['Distance from current address'][temp] = '20-30'\n",
    "        filled_indices.append(temp)\n",
    "        count = count - 1"
   ]
  },
  {
   "cell_type": "code",
   "execution_count": null,
   "metadata": {},
   "outputs": [],
   "source": [
    "count = 3400\n",
    "while(count>0):\n",
    "    temp = random.randrange(0,12000)\n",
    "    if temp not in filled_indices:\n",
    "        data_copy['Distance from current address'][temp] = '30-40'\n",
    "        filled_indices.append(temp)\n",
    "        count = count - 1"
   ]
  },
  {
   "cell_type": "code",
   "execution_count": null,
   "metadata": {},
   "outputs": [],
   "source": [
    "count = 1500\n",
    "while(count>0):\n",
    "    temp = random.randrange(0,12000)\n",
    "    if temp not in filled_indices:\n",
    "        data_copy['Distance from current address'][temp] = '40-50'\n",
    "        filled_indices.append(temp)\n",
    "        count = count - 1"
   ]
  },
  {
   "cell_type": "code",
   "execution_count": null,
   "metadata": {},
   "outputs": [],
   "source": [
    "count = 600\n",
    "while(count>0):\n",
    "    temp = random.randrange(0,12000)\n",
    "    if temp not in filled_indices:\n",
    "        data_copy['Distance from current address'][temp] = '50-60'\n",
    "        filled_indices.append(temp)\n",
    "        count = count - 1"
   ]
  },
  {
   "cell_type": "code",
   "execution_count": null,
   "metadata": {},
   "outputs": [],
   "source": [
    "count = 400\n",
    "while(count>0):\n",
    "    temp = random.randrange(0,12000)\n",
    "    if temp not in filled_indices:\n",
    "        data_copy['Distance from current address'][temp] = '60-70'\n",
    "        filled_indices.append(temp)\n",
    "        count = count - 1"
   ]
  },
  {
   "cell_type": "code",
   "execution_count": null,
   "metadata": {},
   "outputs": [],
   "source": [
    "count = 200\n",
    "while(count>0):\n",
    "    temp = random.randrange(0,12000)\n",
    "    if temp not in filled_indices:\n",
    "        data_copy['Distance from current address'][temp] = '70-80'\n",
    "        filled_indices.append(temp)\n",
    "        count = count - 1"
   ]
  },
  {
   "cell_type": "code",
   "execution_count": null,
   "metadata": {},
   "outputs": [],
   "source": [
    "data_copy.head()"
   ]
  },
  {
   "cell_type": "code",
   "execution_count": null,
   "metadata": {},
   "outputs": [],
   "source": [
    "data_copy.to_csv('../2020-03-17-17-59.csv')"
   ]
  },
  {
   "cell_type": "code",
   "execution_count": 1,
   "metadata": {},
   "outputs": [],
   "source": [
    "import pandas as pd\n",
    "data = pd.read_csv('../2020-03-17-FinalCSV.csv')"
   ]
  },
  {
   "cell_type": "code",
   "execution_count": 2,
   "metadata": {},
   "outputs": [],
   "source": [
    "data.head()\n",
    "data_copy = data.copy()"
   ]
  },
  {
   "cell_type": "code",
   "execution_count": 3,
   "metadata": {},
   "outputs": [
    {
     "data": {
      "text/html": [
       "<div>\n",
       "<style scoped>\n",
       "    .dataframe tbody tr th:only-of-type {\n",
       "        vertical-align: middle;\n",
       "    }\n",
       "\n",
       "    .dataframe tbody tr th {\n",
       "        vertical-align: top;\n",
       "    }\n",
       "\n",
       "    .dataframe thead th {\n",
       "        text-align: right;\n",
       "    }\n",
       "</style>\n",
       "<table border=\"1\" class=\"dataframe\">\n",
       "  <thead>\n",
       "    <tr style=\"text-align: right;\">\n",
       "      <th></th>\n",
       "      <th>Unnamed: 0</th>\n",
       "      <th>Unnamed: 0.1</th>\n",
       "      <th>Employee Code</th>\n",
       "      <th>Employee_Name</th>\n",
       "      <th>Interim Manager</th>\n",
       "      <th>Band</th>\n",
       "      <th>Department</th>\n",
       "      <th>Designation</th>\n",
       "      <th>Process</th>\n",
       "      <th>Education Field</th>\n",
       "      <th>Gender</th>\n",
       "      <th>Age</th>\n",
       "      <th>Salary</th>\n",
       "      <th>Rating</th>\n",
       "      <th>Happiness index</th>\n",
       "      <th>Distance from current address</th>\n",
       "      <th>Attrition Status</th>\n",
       "    </tr>\n",
       "  </thead>\n",
       "  <tbody>\n",
       "    <tr>\n",
       "      <td>0</td>\n",
       "      <td>0</td>\n",
       "      <td>0</td>\n",
       "      <td>455447.0</td>\n",
       "      <td>LJBTYYQM EBQNHPFG</td>\n",
       "      <td>Timothy Mingo</td>\n",
       "      <td>A2</td>\n",
       "      <td>MT</td>\n",
       "      <td>Analyst</td>\n",
       "      <td>Finance</td>\n",
       "      <td>Commerce</td>\n",
       "      <td>Male</td>\n",
       "      <td>23</td>\n",
       "      <td>Good</td>\n",
       "      <td>C</td>\n",
       "      <td>NaN</td>\n",
       "      <td>NaN</td>\n",
       "      <td>No</td>\n",
       "    </tr>\n",
       "    <tr>\n",
       "      <td>1</td>\n",
       "      <td>1</td>\n",
       "      <td>1</td>\n",
       "      <td>431659.0</td>\n",
       "      <td>KLBMBMFY KQUUUEJN</td>\n",
       "      <td>Roy Chapman</td>\n",
       "      <td>A3</td>\n",
       "      <td>MT</td>\n",
       "      <td>Analyst</td>\n",
       "      <td>Underpayments</td>\n",
       "      <td>Medical</td>\n",
       "      <td>Male</td>\n",
       "      <td>45</td>\n",
       "      <td>Good</td>\n",
       "      <td>B</td>\n",
       "      <td>NaN</td>\n",
       "      <td>NaN</td>\n",
       "      <td>Yes</td>\n",
       "    </tr>\n",
       "    <tr>\n",
       "      <td>2</td>\n",
       "      <td>2</td>\n",
       "      <td>2</td>\n",
       "      <td>508065.0</td>\n",
       "      <td>ZJKQOSHS AQEBHMAF</td>\n",
       "      <td>Ryan Shook</td>\n",
       "      <td>A2</td>\n",
       "      <td>PFS 2</td>\n",
       "      <td>BPQA</td>\n",
       "      <td>Underpayments</td>\n",
       "      <td>Arts</td>\n",
       "      <td>Male</td>\n",
       "      <td>37</td>\n",
       "      <td>Good</td>\n",
       "      <td>B</td>\n",
       "      <td>NaN</td>\n",
       "      <td>NaN</td>\n",
       "      <td>No</td>\n",
       "    </tr>\n",
       "    <tr>\n",
       "      <td>3</td>\n",
       "      <td>3</td>\n",
       "      <td>3</td>\n",
       "      <td>581649.0</td>\n",
       "      <td>RBYOTBBX YEILAUJM</td>\n",
       "      <td>Rita Owens</td>\n",
       "      <td>A2</td>\n",
       "      <td>PFS 1</td>\n",
       "      <td>Senior Analyst</td>\n",
       "      <td>Underpayments</td>\n",
       "      <td>Technical</td>\n",
       "      <td>Female</td>\n",
       "      <td>28</td>\n",
       "      <td>Fair</td>\n",
       "      <td>C</td>\n",
       "      <td>NaN</td>\n",
       "      <td>NaN</td>\n",
       "      <td>Yes</td>\n",
       "    </tr>\n",
       "    <tr>\n",
       "      <td>4</td>\n",
       "      <td>4</td>\n",
       "      <td>4</td>\n",
       "      <td>588863.0</td>\n",
       "      <td>XYRANZYP DPWOXGFF</td>\n",
       "      <td>William Mccarthy</td>\n",
       "      <td>A3</td>\n",
       "      <td>FCC</td>\n",
       "      <td>Analyst</td>\n",
       "      <td>Quality</td>\n",
       "      <td>Commerce</td>\n",
       "      <td>Female</td>\n",
       "      <td>30</td>\n",
       "      <td>Good</td>\n",
       "      <td>A</td>\n",
       "      <td>NaN</td>\n",
       "      <td>NaN</td>\n",
       "      <td>Yes</td>\n",
       "    </tr>\n",
       "  </tbody>\n",
       "</table>\n",
       "</div>"
      ],
      "text/plain": [
       "   Unnamed: 0  Unnamed: 0.1  Employee Code      Employee_Name  \\\n",
       "0           0             0       455447.0  LJBTYYQM EBQNHPFG   \n",
       "1           1             1       431659.0  KLBMBMFY KQUUUEJN   \n",
       "2           2             2       508065.0  ZJKQOSHS AQEBHMAF   \n",
       "3           3             3       581649.0  RBYOTBBX YEILAUJM   \n",
       "4           4             4       588863.0  XYRANZYP DPWOXGFF   \n",
       "\n",
       "    Interim Manager Band Department     Designation        Process  \\\n",
       "0     Timothy Mingo   A2         MT         Analyst        Finance   \n",
       "1       Roy Chapman   A3         MT         Analyst  Underpayments   \n",
       "2        Ryan Shook   A2      PFS 2            BPQA  Underpayments   \n",
       "3        Rita Owens   A2      PFS 1  Senior Analyst  Underpayments   \n",
       "4  William Mccarthy   A3        FCC         Analyst        Quality   \n",
       "\n",
       "  Education Field  Gender  Age Salary Rating  Happiness index  \\\n",
       "0        Commerce    Male   23   Good      C              NaN   \n",
       "1         Medical    Male   45   Good      B              NaN   \n",
       "2            Arts    Male   37   Good      B              NaN   \n",
       "3       Technical  Female   28   Fair      C              NaN   \n",
       "4        Commerce  Female   30   Good      A              NaN   \n",
       "\n",
       "  Distance from current address Attrition Status  \n",
       "0                           NaN               No  \n",
       "1                           NaN              Yes  \n",
       "2                           NaN               No  \n",
       "3                           NaN              Yes  \n",
       "4                           NaN              Yes  "
      ]
     },
     "execution_count": 3,
     "metadata": {},
     "output_type": "execute_result"
    }
   ],
   "source": [
    "data_copy.head()"
   ]
  },
  {
   "cell_type": "code",
   "execution_count": 4,
   "metadata": {},
   "outputs": [
    {
     "name": "stdout",
     "output_type": "stream",
     "text": [
      "30\n",
      "90\n",
      "170\n",
      "280\n"
     ]
    },
    {
     "name": "stderr",
     "output_type": "stream",
     "text": [
      "C:\\Users\\USER\\Anaconda3.1\\lib\\site-packages\\ipykernel_launcher.py:7: SettingWithCopyWarning: \n",
      "A value is trying to be set on a copy of a slice from a DataFrame\n",
      "\n",
      "See the caveats in the documentation: http://pandas.pydata.org/pandas-docs/stable/user_guide/indexing.html#returning-a-view-versus-a-copy\n",
      "  import sys\n",
      "C:\\Users\\USER\\Anaconda3.1\\lib\\site-packages\\ipykernel_launcher.py:16: SettingWithCopyWarning: \n",
      "A value is trying to be set on a copy of a slice from a DataFrame\n",
      "\n",
      "See the caveats in the documentation: http://pandas.pydata.org/pandas-docs/stable/user_guide/indexing.html#returning-a-view-versus-a-copy\n",
      "  app.launch_new_instance()\n",
      "C:\\Users\\USER\\Anaconda3.1\\lib\\site-packages\\ipykernel_launcher.py:25: SettingWithCopyWarning: \n",
      "A value is trying to be set on a copy of a slice from a DataFrame\n",
      "\n",
      "See the caveats in the documentation: http://pandas.pydata.org/pandas-docs/stable/user_guide/indexing.html#returning-a-view-versus-a-copy\n",
      "C:\\Users\\USER\\Anaconda3.1\\lib\\site-packages\\ipykernel_launcher.py:34: SettingWithCopyWarning: \n",
      "A value is trying to be set on a copy of a slice from a DataFrame\n",
      "\n",
      "See the caveats in the documentation: http://pandas.pydata.org/pandas-docs/stable/user_guide/indexing.html#returning-a-view-versus-a-copy\n"
     ]
    }
   ],
   "source": [
    "import random\n",
    "count = 30\n",
    "filled_indices = []\n",
    "while(count>0):\n",
    "    temp = random.randrange(0,12000)\n",
    "    if temp not in filled_indices and (data['Attrition Status'][temp] == 'Yes'):\n",
    "        data_copy['Distance from current address'][temp] = '0-10'\n",
    "        filled_indices.append(temp)\n",
    "        count = count - 1\n",
    "print(len(filled_indices))\n",
    "count = 60\n",
    "#filled_indices = []\n",
    "while(count>0):\n",
    "    temp = random.randrange(0,12000)\n",
    "    if temp not in filled_indices and (data['Attrition Status'][temp] == 'Yes'):\n",
    "        data_copy['Distance from current address'][temp] = '10-20'\n",
    "        filled_indices.append(temp)\n",
    "        count = count - 1\n",
    "print(len(filled_indices))\n",
    "count = 80\n",
    "#filled_indices = []\n",
    "while(count>0):\n",
    "    temp = random.randrange(0,12000)\n",
    "    if temp not in filled_indices and (data['Attrition Status'][temp] == 'Yes'):\n",
    "        data_copy['Distance from current address'][temp] = '20-30'\n",
    "        filled_indices.append(temp)\n",
    "        count = count - 1\n",
    "print(len(filled_indices))\n",
    "count = 110\n",
    "#filled_indices = []\n",
    "while(count>0):\n",
    "    temp = random.randrange(0,12000)\n",
    "    if temp not in filled_indices and (data['Attrition Status'][temp] == 'Yes'):\n",
    "        data_copy['Distance from current address'][temp] = '30-40'\n",
    "        filled_indices.append(temp)\n",
    "        count = count - 1\n",
    "print(len(filled_indices))"
   ]
  },
  {
   "cell_type": "code",
   "execution_count": 5,
   "metadata": {},
   "outputs": [
    {
     "name": "stdout",
     "output_type": "stream",
     "text": [
      "490\n",
      "670\n",
      "970\n",
      "1120\n"
     ]
    },
    {
     "name": "stderr",
     "output_type": "stream",
     "text": [
      "C:\\Users\\USER\\Anaconda3.1\\lib\\site-packages\\ipykernel_launcher.py:6: SettingWithCopyWarning: \n",
      "A value is trying to be set on a copy of a slice from a DataFrame\n",
      "\n",
      "See the caveats in the documentation: http://pandas.pydata.org/pandas-docs/stable/user_guide/indexing.html#returning-a-view-versus-a-copy\n",
      "  \n",
      "C:\\Users\\USER\\Anaconda3.1\\lib\\site-packages\\ipykernel_launcher.py:15: SettingWithCopyWarning: \n",
      "A value is trying to be set on a copy of a slice from a DataFrame\n",
      "\n",
      "See the caveats in the documentation: http://pandas.pydata.org/pandas-docs/stable/user_guide/indexing.html#returning-a-view-versus-a-copy\n",
      "  from ipykernel import kernelapp as app\n",
      "C:\\Users\\USER\\Anaconda3.1\\lib\\site-packages\\ipykernel_launcher.py:24: SettingWithCopyWarning: \n",
      "A value is trying to be set on a copy of a slice from a DataFrame\n",
      "\n",
      "See the caveats in the documentation: http://pandas.pydata.org/pandas-docs/stable/user_guide/indexing.html#returning-a-view-versus-a-copy\n",
      "C:\\Users\\USER\\Anaconda3.1\\lib\\site-packages\\ipykernel_launcher.py:33: SettingWithCopyWarning: \n",
      "A value is trying to be set on a copy of a slice from a DataFrame\n",
      "\n",
      "See the caveats in the documentation: http://pandas.pydata.org/pandas-docs/stable/user_guide/indexing.html#returning-a-view-versus-a-copy\n"
     ]
    }
   ],
   "source": [
    "count = 210\n",
    "#filled_indices = []\n",
    "while(count>0):\n",
    "    temp = random.randrange(0,12000)\n",
    "    if temp not in filled_indices and (data['Attrition Status'][temp] == 'Yes'):\n",
    "        data_copy['Distance from current address'][temp] = '40-50'\n",
    "        filled_indices.append(temp)\n",
    "        count = count - 1\n",
    "print(len(filled_indices))\n",
    "count = 180\n",
    "#filled_indices = []\n",
    "while(count>0):\n",
    "    temp = random.randrange(0,12000)\n",
    "    if temp not in filled_indices and (data['Attrition Status'][temp] == 'Yes'):\n",
    "        data_copy['Distance from current address'][temp] = '50-60'\n",
    "        filled_indices.append(temp)\n",
    "        count = count - 1\n",
    "print(len(filled_indices))\n",
    "count = 300\n",
    "#filled_indices = []\n",
    "while(count>0):\n",
    "    temp = random.randrange(0,12000)\n",
    "    if temp not in filled_indices and (data['Attrition Status'][temp] == 'Yes'):\n",
    "        data_copy['Distance from current address'][temp] = '60-70'\n",
    "        filled_indices.append(temp)\n",
    "        count = count - 1\n",
    "print(len(filled_indices))\n",
    "count = 150\n",
    "#filled_indices = []\n",
    "while(count>0):\n",
    "    temp = random.randrange(0,12000)\n",
    "    if temp not in filled_indices and (data['Attrition Status'][temp] == 'Yes'):\n",
    "        data_copy['Distance from current address'][temp] = '70-80'\n",
    "        filled_indices.append(temp)\n",
    "        count = count - 1\n",
    "print(len(filled_indices))"
   ]
  },
  {
   "cell_type": "code",
   "execution_count": null,
   "metadata": {},
   "outputs": [],
   "source": [
    "#data_copy.to_csv(\"../2020-03-17-18-53.csv\")"
   ]
  },
  {
   "cell_type": "code",
   "execution_count": null,
   "metadata": {},
   "outputs": [],
   "source": [
    "#data_copy.to_csv(\"../2020-03-17-FinalCSV.csv\")"
   ]
  },
  {
   "cell_type": "code",
   "execution_count": 7,
   "metadata": {},
   "outputs": [
    {
     "name": "stderr",
     "output_type": "stream",
     "text": [
      "C:\\Users\\USER\\Anaconda3.1\\lib\\site-packages\\ipykernel_launcher.py:7: SettingWithCopyWarning: \n",
      "A value is trying to be set on a copy of a slice from a DataFrame\n",
      "\n",
      "See the caveats in the documentation: http://pandas.pydata.org/pandas-docs/stable/user_guide/indexing.html#returning-a-view-versus-a-copy\n",
      "  import sys\n",
      "C:\\Users\\USER\\Anaconda3.1\\lib\\site-packages\\ipykernel_launcher.py:16: SettingWithCopyWarning: \n",
      "A value is trying to be set on a copy of a slice from a DataFrame\n",
      "\n",
      "See the caveats in the documentation: http://pandas.pydata.org/pandas-docs/stable/user_guide/indexing.html#returning-a-view-versus-a-copy\n",
      "  app.launch_new_instance()\n"
     ]
    },
    {
     "name": "stdout",
     "output_type": "stream",
     "text": [
      "3750\n",
      "6290\n"
     ]
    },
    {
     "name": "stderr",
     "output_type": "stream",
     "text": [
      "C:\\Users\\USER\\Anaconda3.1\\lib\\site-packages\\ipykernel_launcher.py:25: SettingWithCopyWarning: \n",
      "A value is trying to be set on a copy of a slice from a DataFrame\n",
      "\n",
      "See the caveats in the documentation: http://pandas.pydata.org/pandas-docs/stable/user_guide/indexing.html#returning-a-view-versus-a-copy\n"
     ]
    },
    {
     "name": "stdout",
     "output_type": "stream",
     "text": [
      "8710\n"
     ]
    },
    {
     "name": "stderr",
     "output_type": "stream",
     "text": [
      "C:\\Users\\USER\\Anaconda3.1\\lib\\site-packages\\ipykernel_launcher.py:34: SettingWithCopyWarning: \n",
      "A value is trying to be set on a copy of a slice from a DataFrame\n",
      "\n",
      "See the caveats in the documentation: http://pandas.pydata.org/pandas-docs/stable/user_guide/indexing.html#returning-a-view-versus-a-copy\n"
     ]
    },
    {
     "name": "stdout",
     "output_type": "stream",
     "text": [
      "12000\n"
     ]
    }
   ],
   "source": [
    "import random\n",
    "count = 770\n",
    "#filled_indices = []\n",
    "while(count>0):\n",
    "    temp = random.randrange(0,12000)\n",
    "    if temp not in filled_indices :\n",
    "        data_copy['Distance from current address'][temp] = '0-10'\n",
    "        filled_indices.append(temp)\n",
    "        count = count - 1\n",
    "print(len(filled_indices))\n",
    "count = 2540\n",
    "#filled_indices = []\n",
    "while(count>0):\n",
    "    temp = random.randrange(0,12000)\n",
    "    if temp not in filled_indices :\n",
    "        data_copy['Distance from current address'][temp] = '10-20'\n",
    "        filled_indices.append(temp)\n",
    "        count = count - 1\n",
    "print(len(filled_indices))\n",
    "count = 2420\n",
    "#filled_indices = []\n",
    "while(count>0):\n",
    "    temp = random.randrange(0,12000)\n",
    "    if temp not in filled_indices :\n",
    "        data_copy['Distance from current address'][temp] = '20-30'\n",
    "        filled_indices.append(temp)\n",
    "        count = count - 1\n",
    "print(len(filled_indices))\n",
    "count = 3290\n",
    "#filled_indices = []\n",
    "while(count>0):\n",
    "    temp = random.randrange(0,12000)\n",
    "    if temp not in filled_indices:\n",
    "        data_copy['Distance from current address'][temp] = '30-40'\n",
    "        filled_indices.append(temp)\n",
    "        count = count - 1\n",
    "print(len(filled_indices))"
   ]
  },
  {
   "cell_type": "code",
   "execution_count": 6,
   "metadata": {},
   "outputs": [
    {
     "name": "stderr",
     "output_type": "stream",
     "text": [
      "C:\\Users\\USER\\Anaconda3.1\\lib\\site-packages\\ipykernel_launcher.py:6: SettingWithCopyWarning: \n",
      "A value is trying to be set on a copy of a slice from a DataFrame\n",
      "\n",
      "See the caveats in the documentation: http://pandas.pydata.org/pandas-docs/stable/user_guide/indexing.html#returning-a-view-versus-a-copy\n",
      "  \n",
      "C:\\Users\\USER\\Anaconda3.1\\lib\\site-packages\\ipykernel_launcher.py:15: SettingWithCopyWarning: \n",
      "A value is trying to be set on a copy of a slice from a DataFrame\n",
      "\n",
      "See the caveats in the documentation: http://pandas.pydata.org/pandas-docs/stable/user_guide/indexing.html#returning-a-view-versus-a-copy\n",
      "  from ipykernel import kernelapp as app\n",
      "C:\\Users\\USER\\Anaconda3.1\\lib\\site-packages\\ipykernel_launcher.py:24: SettingWithCopyWarning: \n",
      "A value is trying to be set on a copy of a slice from a DataFrame\n",
      "\n",
      "See the caveats in the documentation: http://pandas.pydata.org/pandas-docs/stable/user_guide/indexing.html#returning-a-view-versus-a-copy\n",
      "C:\\Users\\USER\\Anaconda3.1\\lib\\site-packages\\ipykernel_launcher.py:33: SettingWithCopyWarning: \n",
      "A value is trying to be set on a copy of a slice from a DataFrame\n",
      "\n",
      "See the caveats in the documentation: http://pandas.pydata.org/pandas-docs/stable/user_guide/indexing.html#returning-a-view-versus-a-copy\n"
     ]
    },
    {
     "name": "stdout",
     "output_type": "stream",
     "text": [
      "2410\n",
      "2830\n",
      "2930\n",
      "2980\n"
     ]
    }
   ],
   "source": [
    "count = 1290\n",
    "#filled_indices = []\n",
    "while(count>0):\n",
    "    temp = random.randrange(0,12000)\n",
    "    if temp not in filled_indices :\n",
    "        data_copy['Distance from current address'][temp] = '40-50'\n",
    "        filled_indices.append(temp)\n",
    "        count = count - 1\n",
    "print(len(filled_indices))\n",
    "count = 420\n",
    "#filled_indices = []\n",
    "while(count>0):\n",
    "    temp = random.randrange(0,12000)\n",
    "    if temp not in filled_indices :\n",
    "        data_copy['Distance from current address'][temp] = '50-60'\n",
    "        filled_indices.append(temp)\n",
    "        count = count - 1\n",
    "print(len(filled_indices))\n",
    "count = 100\n",
    "#filled_indices = []\n",
    "while(count>0):\n",
    "    temp = random.randrange(0,12000)\n",
    "    if temp not in filled_indices :\n",
    "        data_copy['Distance from current address'][temp] = '60-70'\n",
    "        filled_indices.append(temp)\n",
    "        count = count - 1\n",
    "print(len(filled_indices))\n",
    "count = 50\n",
    "#filled_indices = []\n",
    "while(count>0):\n",
    "    temp = random.randrange(0,12000)\n",
    "    if temp not in filled_indices :\n",
    "        data_copy['Distance from current address'][temp] = '70-80'\n",
    "        filled_indices.append(temp)\n",
    "        count = count - 1\n",
    "print(len(filled_indices))"
   ]
  },
  {
   "cell_type": "code",
   "execution_count": 9,
   "metadata": {},
   "outputs": [],
   "source": [
    "data_copy.to_csv(\"../Categorical-2020-03-17-19-26.csv\")"
   ]
  },
  {
   "cell_type": "code",
   "execution_count": null,
   "metadata": {},
   "outputs": [],
   "source": []
  }
 ],
 "metadata": {
  "kernelspec": {
   "display_name": "Python 3",
   "language": "python",
   "name": "python3"
  },
  "language_info": {
   "codemirror_mode": {
    "name": "ipython",
    "version": 3
   },
   "file_extension": ".py",
   "mimetype": "text/x-python",
   "name": "python",
   "nbconvert_exporter": "python",
   "pygments_lexer": "ipython3",
   "version": "3.7.4"
  }
 },
 "nbformat": 4,
 "nbformat_minor": 2
}
