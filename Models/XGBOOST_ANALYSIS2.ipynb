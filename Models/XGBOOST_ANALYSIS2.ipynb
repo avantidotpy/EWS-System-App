{
  "nbformat": 4,
  "nbformat_minor": 0,
  "metadata": {
    "colab": {
      "name": "XGBOOST_ANALYSIS2.ipynb",
      "provenance": []
    },
    "kernelspec": {
      "name": "python3",
      "display_name": "Python 3"
    }
  },
  "cells": [
    {
      "cell_type": "code",
      "metadata": {
        "id": "3eoJYFJ_sD9U"
      },
      "source": [
        "\n",
        "from xgboost import XGBClassifier\n",
        "from sklearn.model_selection import train_test_split\n",
        "from sklearn.metrics import accuracy_score"
      ],
      "execution_count": null,
      "outputs": []
    },
    {
      "cell_type": "code",
      "metadata": {
        "id": "T11IN4XTshM2"
      },
      "source": [
        "import numpy as np \n",
        "import matplotlib.pyplot as plt \n",
        "import pandas as pd \n",
        "import seaborn as sns"
      ],
      "execution_count": null,
      "outputs": []
    },
    {
      "cell_type": "code",
      "metadata": {
        "id": "ChErcvkps3Dr",
        "colab": {
          "base_uri": "https://localhost:8080/",
          "height": 34
        },
        "outputId": "4984ea39-38bf-4d9f-986f-23e09db91aa2"
      },
      "source": [
        "df_r1 = pd.read_csv('WITHOUTA1A2A3.csv')\n",
        "             \n",
        "df_r1.shape"
      ],
      "execution_count": null,
      "outputs": [
        {
          "output_type": "execute_result",
          "data": {
            "text/plain": [
              "(400, 23)"
            ]
          },
          "metadata": {
            "tags": []
          },
          "execution_count": 6
        }
      ]
    },
    {
      "cell_type": "code",
      "metadata": {
        "id": "taMSdyGRs7Sq",
        "colab": {
          "base_uri": "https://localhost:8080/",
          "height": 360
        },
        "outputId": "f2531e61-d744-4915-c628-d5f932cf1ed5"
      },
      "source": [
        "df_r1.head() "
      ],
      "execution_count": null,
      "outputs": [
        {
          "output_type": "execute_result",
          "data": {
            "text/html": [
              "<div>\n",
              "<style scoped>\n",
              "    .dataframe tbody tr th:only-of-type {\n",
              "        vertical-align: middle;\n",
              "    }\n",
              "\n",
              "    .dataframe tbody tr th {\n",
              "        vertical-align: top;\n",
              "    }\n",
              "\n",
              "    .dataframe thead th {\n",
              "        text-align: right;\n",
              "    }\n",
              "</style>\n",
              "<table border=\"1\" class=\"dataframe\">\n",
              "  <thead>\n",
              "    <tr style=\"text-align: right;\">\n",
              "      <th></th>\n",
              "      <th>Employee Code</th>\n",
              "      <th>Employee_Name</th>\n",
              "      <th>Interim Manager</th>\n",
              "      <th>Band</th>\n",
              "      <th>Department</th>\n",
              "      <th>Designation</th>\n",
              "      <th>Process</th>\n",
              "      <th>Education Field</th>\n",
              "      <th>Gender</th>\n",
              "      <th>Age</th>\n",
              "      <th>Salary</th>\n",
              "      <th>Rating</th>\n",
              "      <th>Happiness index</th>\n",
              "      <th>Distance from current Address</th>\n",
              "      <th>Attrition Status</th>\n",
              "      <th>Date Of Joining</th>\n",
              "      <th>Date of Attrition</th>\n",
              "      <th>LWD</th>\n",
              "      <th>Exit interview comments - HR</th>\n",
              "      <th>Over18</th>\n",
              "      <th>Stock Option Level</th>\n",
              "      <th>Direct Report</th>\n",
              "      <th>Marital Status</th>\n",
              "    </tr>\n",
              "  </thead>\n",
              "  <tbody>\n",
              "    <tr>\n",
              "      <th>0</th>\n",
              "      <td>598558</td>\n",
              "      <td>QYFHBFMD IBZVSNCC</td>\n",
              "      <td>NaN</td>\n",
              "      <td>Manager</td>\n",
              "      <td>Operations</td>\n",
              "      <td>Executive</td>\n",
              "      <td>Medical Transcription</td>\n",
              "      <td>Technical</td>\n",
              "      <td>Male</td>\n",
              "      <td>40</td>\n",
              "      <td>High</td>\n",
              "      <td>A</td>\n",
              "      <td>4</td>\n",
              "      <td>6</td>\n",
              "      <td>No</td>\n",
              "      <td>01/11/2008</td>\n",
              "      <td>NaN</td>\n",
              "      <td>NaN</td>\n",
              "      <td>NaN</td>\n",
              "      <td>Y</td>\n",
              "      <td>1.0</td>\n",
              "      <td>NaN</td>\n",
              "      <td>1</td>\n",
              "    </tr>\n",
              "    <tr>\n",
              "      <th>1</th>\n",
              "      <td>501329</td>\n",
              "      <td>HKKAYAYE VCHQJVAG</td>\n",
              "      <td>NaN</td>\n",
              "      <td>P2</td>\n",
              "      <td>Operations</td>\n",
              "      <td>Executive Assistant</td>\n",
              "      <td>Medical Transcription</td>\n",
              "      <td>Medical</td>\n",
              "      <td>Male</td>\n",
              "      <td>46</td>\n",
              "      <td>Very High</td>\n",
              "      <td>A</td>\n",
              "      <td>4</td>\n",
              "      <td>2</td>\n",
              "      <td>No</td>\n",
              "      <td>03/03/2008</td>\n",
              "      <td>NaN</td>\n",
              "      <td>NaN</td>\n",
              "      <td>NaN</td>\n",
              "      <td>Y</td>\n",
              "      <td>NaN</td>\n",
              "      <td>NaN</td>\n",
              "      <td>1</td>\n",
              "    </tr>\n",
              "    <tr>\n",
              "      <th>2</th>\n",
              "      <td>194885</td>\n",
              "      <td>DMNLDQYI ASROVLIO</td>\n",
              "      <td>NaN</td>\n",
              "      <td>P1</td>\n",
              "      <td>PFS 1</td>\n",
              "      <td>Team Lead</td>\n",
              "      <td>Medical Transcription</td>\n",
              "      <td>Arts</td>\n",
              "      <td>Male</td>\n",
              "      <td>37</td>\n",
              "      <td>High</td>\n",
              "      <td>A</td>\n",
              "      <td>4</td>\n",
              "      <td>5</td>\n",
              "      <td>No</td>\n",
              "      <td>10/03/2008</td>\n",
              "      <td>NaN</td>\n",
              "      <td>NaN</td>\n",
              "      <td>NaN</td>\n",
              "      <td>Y</td>\n",
              "      <td>1.0</td>\n",
              "      <td>NaN</td>\n",
              "      <td>1</td>\n",
              "    </tr>\n",
              "    <tr>\n",
              "      <th>3</th>\n",
              "      <td>480091</td>\n",
              "      <td>DTMDDKVJ HGVZGKBW</td>\n",
              "      <td>NaN</td>\n",
              "      <td>P1</td>\n",
              "      <td>MT</td>\n",
              "      <td>Business Analyst</td>\n",
              "      <td>Medical Transcription</td>\n",
              "      <td>Technical</td>\n",
              "      <td>Male</td>\n",
              "      <td>51</td>\n",
              "      <td>High</td>\n",
              "      <td>A</td>\n",
              "      <td>4</td>\n",
              "      <td>2</td>\n",
              "      <td>No</td>\n",
              "      <td>10/03/2008</td>\n",
              "      <td>NaN</td>\n",
              "      <td>NaN</td>\n",
              "      <td>NaN</td>\n",
              "      <td>Y</td>\n",
              "      <td>NaN</td>\n",
              "      <td>NaN</td>\n",
              "      <td>1</td>\n",
              "    </tr>\n",
              "    <tr>\n",
              "      <th>4</th>\n",
              "      <td>808186</td>\n",
              "      <td>JABMATQP PJDMGIOW</td>\n",
              "      <td>NaN</td>\n",
              "      <td>P2</td>\n",
              "      <td>FCC</td>\n",
              "      <td>Manager</td>\n",
              "      <td>Medical Transcription</td>\n",
              "      <td>Others</td>\n",
              "      <td>Female</td>\n",
              "      <td>56</td>\n",
              "      <td>Very High</td>\n",
              "      <td>B</td>\n",
              "      <td>4</td>\n",
              "      <td>4</td>\n",
              "      <td>No</td>\n",
              "      <td>17/03/2008</td>\n",
              "      <td>NaN</td>\n",
              "      <td>NaN</td>\n",
              "      <td>NaN</td>\n",
              "      <td>Y</td>\n",
              "      <td>NaN</td>\n",
              "      <td>NaN</td>\n",
              "      <td>1</td>\n",
              "    </tr>\n",
              "  </tbody>\n",
              "</table>\n",
              "</div>"
            ],
            "text/plain": [
              "   Employee Code      Employee_Name  ...  Direct Report Marital Status\n",
              "0         598558  QYFHBFMD IBZVSNCC  ...            NaN              1\n",
              "1         501329  HKKAYAYE VCHQJVAG  ...            NaN              1\n",
              "2         194885  DMNLDQYI ASROVLIO  ...            NaN              1\n",
              "3         480091  DTMDDKVJ HGVZGKBW  ...            NaN              1\n",
              "4         808186  JABMATQP PJDMGIOW  ...            NaN              1\n",
              "\n",
              "[5 rows x 23 columns]"
            ]
          },
          "metadata": {
            "tags": []
          },
          "execution_count": 7
        }
      ]
    },
    {
      "cell_type": "code",
      "metadata": {
        "id": "1H9_ANaotBQN",
        "colab": {
          "base_uri": "https://localhost:8080/",
          "height": 425
        },
        "outputId": "5c7e5a0f-29c7-43da-d8d6-ac8a3f1a8479"
      },
      "source": [
        "df_r1.dtypes"
      ],
      "execution_count": null,
      "outputs": [
        {
          "output_type": "execute_result",
          "data": {
            "text/plain": [
              "Employee Code                      int64\n",
              "Employee_Name                     object\n",
              "Interim Manager                  float64\n",
              "Band                              object\n",
              "Department                        object\n",
              "Designation                       object\n",
              "Process                           object\n",
              "Education Field                   object\n",
              "Gender                            object\n",
              "Age                                int64\n",
              "Salary                            object\n",
              "Rating                            object\n",
              "Happiness index                    int64\n",
              "Distance from current Address      int64\n",
              "Attrition Status                  object\n",
              "Date Of Joining                   object\n",
              "Date of Attrition                 object\n",
              "LWD                               object\n",
              "Exit interview comments - HR     float64\n",
              "Over18                            object\n",
              "Stock Option Level               float64\n",
              "Direct Report                    float64\n",
              "Marital Status                     int64\n",
              "dtype: object"
            ]
          },
          "metadata": {
            "tags": []
          },
          "execution_count": 8
        }
      ]
    },
    {
      "cell_type": "code",
      "metadata": {
        "id": "lnknfJ2ptEgS",
        "colab": {
          "base_uri": "https://localhost:8080/",
          "height": 425
        },
        "outputId": "4f617b25-7443-411b-c304-4c72b6ed4fc3"
      },
      "source": [
        "df_r1.isnull().sum()"
      ],
      "execution_count": null,
      "outputs": [
        {
          "output_type": "execute_result",
          "data": {
            "text/plain": [
              "Employee Code                      0\n",
              "Employee_Name                      0\n",
              "Interim Manager                  400\n",
              "Band                               0\n",
              "Department                         0\n",
              "Designation                        0\n",
              "Process                            0\n",
              "Education Field                    0\n",
              "Gender                             0\n",
              "Age                                0\n",
              "Salary                             0\n",
              "Rating                             0\n",
              "Happiness index                    0\n",
              "Distance from current Address      0\n",
              "Attrition Status                   0\n",
              "Date Of Joining                    0\n",
              "Date of Attrition                340\n",
              "LWD                              340\n",
              "Exit interview comments - HR     400\n",
              "Over18                             0\n",
              "Stock Option Level               350\n",
              "Direct Report                    400\n",
              "Marital Status                     0\n",
              "dtype: int64"
            ]
          },
          "metadata": {
            "tags": []
          },
          "execution_count": 9
        }
      ]
    },
    {
      "cell_type": "code",
      "metadata": {
        "id": "b2dqqTI-tJE5"
      },
      "source": [
        "df_r1.drop('Employee Code', axis=1, inplace=True)\n",
        "df_r1.drop('Employee_Name', axis=1, inplace=True)\n",
        "df_r1.drop('Interim Manager', axis=1, inplace=True)\n",
        "df_r1.drop('Over18', axis=1, inplace=True)\n",
        "df_r1.drop('Stock Option Level', axis=1, inplace=True)\n",
        "df_r1.drop('Direct Report', axis=1, inplace=True)\n",
        "df_r1.drop('Date Of Joining', axis=1, inplace=True)\n",
        "df_r1.drop('Date of Attrition', axis=1, inplace=True)\n",
        "df_r1.drop('LWD', axis=1, inplace=True)\n",
        "df_r1.drop('Exit interview comments - HR', axis=1, inplace=True)\n",
        "df_r1.drop('Process', axis=1, inplace=True)"
      ],
      "execution_count": null,
      "outputs": []
    },
    {
      "cell_type": "code",
      "metadata": {
        "id": "t-NHu_mktMFj",
        "colab": {
          "base_uri": "https://localhost:8080/",
          "height": 238
        },
        "outputId": "a53b5489-4bd6-49d8-fe8a-d7945c41f383"
      },
      "source": [
        "df_r1=df_r1.dropna()\n",
        "df_r1.isnull().sum()"
      ],
      "execution_count": null,
      "outputs": [
        {
          "output_type": "execute_result",
          "data": {
            "text/plain": [
              "Band                             0\n",
              "Department                       0\n",
              "Designation                      0\n",
              "Education Field                  0\n",
              "Gender                           0\n",
              "Age                              0\n",
              "Salary                           0\n",
              "Rating                           0\n",
              "Happiness index                  0\n",
              "Distance from current Address    0\n",
              "Attrition Status                 0\n",
              "Marital Status                   0\n",
              "dtype: int64"
            ]
          },
          "metadata": {
            "tags": []
          },
          "execution_count": 11
        }
      ]
    },
    {
      "cell_type": "code",
      "metadata": {
        "id": "YeEmI7mWtR1n",
        "colab": {
          "base_uri": "https://localhost:8080/",
          "height": 34
        },
        "outputId": "9785c09c-bcec-40a9-af18-3139bfe9aa2b"
      },
      "source": [
        "df_r1.shape"
      ],
      "execution_count": null,
      "outputs": [
        {
          "output_type": "execute_result",
          "data": {
            "text/plain": [
              "(400, 12)"
            ]
          },
          "metadata": {
            "tags": []
          },
          "execution_count": 12
        }
      ]
    },
    {
      "cell_type": "code",
      "metadata": {
        "id": "vvD06sJZtUbM"
      },
      "source": [
        "df_r1['Attrition Status'] = df_r1['Attrition Status'].map({'No':0, 'Yes':1})"
      ],
      "execution_count": null,
      "outputs": []
    },
    {
      "cell_type": "code",
      "metadata": {
        "id": "peXjmCextX2e",
        "colab": {
          "base_uri": "https://localhost:8080/",
          "height": 297
        },
        "outputId": "cf4cb132-4c60-4582-ee81-21e6c3ab8468"
      },
      "source": [
        "df_r1.describe()"
      ],
      "execution_count": null,
      "outputs": [
        {
          "output_type": "execute_result",
          "data": {
            "text/html": [
              "<div>\n",
              "<style scoped>\n",
              "    .dataframe tbody tr th:only-of-type {\n",
              "        vertical-align: middle;\n",
              "    }\n",
              "\n",
              "    .dataframe tbody tr th {\n",
              "        vertical-align: top;\n",
              "    }\n",
              "\n",
              "    .dataframe thead th {\n",
              "        text-align: right;\n",
              "    }\n",
              "</style>\n",
              "<table border=\"1\" class=\"dataframe\">\n",
              "  <thead>\n",
              "    <tr style=\"text-align: right;\">\n",
              "      <th></th>\n",
              "      <th>Age</th>\n",
              "      <th>Happiness index</th>\n",
              "      <th>Distance from current Address</th>\n",
              "      <th>Attrition Status</th>\n",
              "      <th>Marital Status</th>\n",
              "    </tr>\n",
              "  </thead>\n",
              "  <tbody>\n",
              "    <tr>\n",
              "      <th>count</th>\n",
              "      <td>400.000000</td>\n",
              "      <td>400.000000</td>\n",
              "      <td>400.000000</td>\n",
              "      <td>400.000000</td>\n",
              "      <td>400.0</td>\n",
              "    </tr>\n",
              "    <tr>\n",
              "      <th>mean</th>\n",
              "      <td>41.450000</td>\n",
              "      <td>4.067500</td>\n",
              "      <td>3.410000</td>\n",
              "      <td>0.150000</td>\n",
              "      <td>1.0</td>\n",
              "    </tr>\n",
              "    <tr>\n",
              "      <th>std</th>\n",
              "      <td>9.102452</td>\n",
              "      <td>0.684921</td>\n",
              "      <td>1.425475</td>\n",
              "      <td>0.357519</td>\n",
              "      <td>0.0</td>\n",
              "    </tr>\n",
              "    <tr>\n",
              "      <th>min</th>\n",
              "      <td>28.000000</td>\n",
              "      <td>2.000000</td>\n",
              "      <td>1.000000</td>\n",
              "      <td>0.000000</td>\n",
              "      <td>1.0</td>\n",
              "    </tr>\n",
              "    <tr>\n",
              "      <th>25%</th>\n",
              "      <td>33.000000</td>\n",
              "      <td>4.000000</td>\n",
              "      <td>2.000000</td>\n",
              "      <td>0.000000</td>\n",
              "      <td>1.0</td>\n",
              "    </tr>\n",
              "    <tr>\n",
              "      <th>50%</th>\n",
              "      <td>40.000000</td>\n",
              "      <td>4.000000</td>\n",
              "      <td>3.000000</td>\n",
              "      <td>0.000000</td>\n",
              "      <td>1.0</td>\n",
              "    </tr>\n",
              "    <tr>\n",
              "      <th>75%</th>\n",
              "      <td>49.000000</td>\n",
              "      <td>4.000000</td>\n",
              "      <td>4.000000</td>\n",
              "      <td>0.000000</td>\n",
              "      <td>1.0</td>\n",
              "    </tr>\n",
              "    <tr>\n",
              "      <th>max</th>\n",
              "      <td>60.000000</td>\n",
              "      <td>5.000000</td>\n",
              "      <td>8.000000</td>\n",
              "      <td>1.000000</td>\n",
              "      <td>1.0</td>\n",
              "    </tr>\n",
              "  </tbody>\n",
              "</table>\n",
              "</div>"
            ],
            "text/plain": [
              "              Age  Happiness index  ...  Attrition Status  Marital Status\n",
              "count  400.000000       400.000000  ...        400.000000           400.0\n",
              "mean    41.450000         4.067500  ...          0.150000             1.0\n",
              "std      9.102452         0.684921  ...          0.357519             0.0\n",
              "min     28.000000         2.000000  ...          0.000000             1.0\n",
              "25%     33.000000         4.000000  ...          0.000000             1.0\n",
              "50%     40.000000         4.000000  ...          0.000000             1.0\n",
              "75%     49.000000         4.000000  ...          0.000000             1.0\n",
              "max     60.000000         5.000000  ...          1.000000             1.0\n",
              "\n",
              "[8 rows x 5 columns]"
            ]
          },
          "metadata": {
            "tags": []
          },
          "execution_count": 14
        }
      ]
    },
    {
      "cell_type": "code",
      "metadata": {
        "id": "tsPvs_cJtaEi",
        "colab": {
          "base_uri": "https://localhost:8080/",
          "height": 289
        },
        "outputId": "851b3ce2-2f1c-45c1-a885-ac330969472d"
      },
      "source": [
        "df_r1.head()"
      ],
      "execution_count": null,
      "outputs": [
        {
          "output_type": "execute_result",
          "data": {
            "text/html": [
              "<div>\n",
              "<style scoped>\n",
              "    .dataframe tbody tr th:only-of-type {\n",
              "        vertical-align: middle;\n",
              "    }\n",
              "\n",
              "    .dataframe tbody tr th {\n",
              "        vertical-align: top;\n",
              "    }\n",
              "\n",
              "    .dataframe thead th {\n",
              "        text-align: right;\n",
              "    }\n",
              "</style>\n",
              "<table border=\"1\" class=\"dataframe\">\n",
              "  <thead>\n",
              "    <tr style=\"text-align: right;\">\n",
              "      <th></th>\n",
              "      <th>Band</th>\n",
              "      <th>Department</th>\n",
              "      <th>Designation</th>\n",
              "      <th>Education Field</th>\n",
              "      <th>Gender</th>\n",
              "      <th>Age</th>\n",
              "      <th>Salary</th>\n",
              "      <th>Rating</th>\n",
              "      <th>Happiness index</th>\n",
              "      <th>Distance from current Address</th>\n",
              "      <th>Attrition Status</th>\n",
              "      <th>Marital Status</th>\n",
              "    </tr>\n",
              "  </thead>\n",
              "  <tbody>\n",
              "    <tr>\n",
              "      <th>0</th>\n",
              "      <td>Manager</td>\n",
              "      <td>Operations</td>\n",
              "      <td>Executive</td>\n",
              "      <td>Technical</td>\n",
              "      <td>Male</td>\n",
              "      <td>40</td>\n",
              "      <td>High</td>\n",
              "      <td>A</td>\n",
              "      <td>4</td>\n",
              "      <td>6</td>\n",
              "      <td>0</td>\n",
              "      <td>1</td>\n",
              "    </tr>\n",
              "    <tr>\n",
              "      <th>1</th>\n",
              "      <td>P2</td>\n",
              "      <td>Operations</td>\n",
              "      <td>Executive Assistant</td>\n",
              "      <td>Medical</td>\n",
              "      <td>Male</td>\n",
              "      <td>46</td>\n",
              "      <td>Very High</td>\n",
              "      <td>A</td>\n",
              "      <td>4</td>\n",
              "      <td>2</td>\n",
              "      <td>0</td>\n",
              "      <td>1</td>\n",
              "    </tr>\n",
              "    <tr>\n",
              "      <th>2</th>\n",
              "      <td>P1</td>\n",
              "      <td>PFS 1</td>\n",
              "      <td>Team Lead</td>\n",
              "      <td>Arts</td>\n",
              "      <td>Male</td>\n",
              "      <td>37</td>\n",
              "      <td>High</td>\n",
              "      <td>A</td>\n",
              "      <td>4</td>\n",
              "      <td>5</td>\n",
              "      <td>0</td>\n",
              "      <td>1</td>\n",
              "    </tr>\n",
              "    <tr>\n",
              "      <th>3</th>\n",
              "      <td>P1</td>\n",
              "      <td>MT</td>\n",
              "      <td>Business Analyst</td>\n",
              "      <td>Technical</td>\n",
              "      <td>Male</td>\n",
              "      <td>51</td>\n",
              "      <td>High</td>\n",
              "      <td>A</td>\n",
              "      <td>4</td>\n",
              "      <td>2</td>\n",
              "      <td>0</td>\n",
              "      <td>1</td>\n",
              "    </tr>\n",
              "    <tr>\n",
              "      <th>4</th>\n",
              "      <td>P2</td>\n",
              "      <td>FCC</td>\n",
              "      <td>Manager</td>\n",
              "      <td>Others</td>\n",
              "      <td>Female</td>\n",
              "      <td>56</td>\n",
              "      <td>Very High</td>\n",
              "      <td>B</td>\n",
              "      <td>4</td>\n",
              "      <td>4</td>\n",
              "      <td>0</td>\n",
              "      <td>1</td>\n",
              "    </tr>\n",
              "  </tbody>\n",
              "</table>\n",
              "</div>"
            ],
            "text/plain": [
              "      Band  Department  ... Attrition Status Marital Status\n",
              "0  Manager  Operations  ...                0              1\n",
              "1       P2  Operations  ...                0              1\n",
              "2       P1       PFS 1  ...                0              1\n",
              "3       P1          MT  ...                0              1\n",
              "4       P2         FCC  ...                0              1\n",
              "\n",
              "[5 rows x 12 columns]"
            ]
          },
          "metadata": {
            "tags": []
          },
          "execution_count": 15
        }
      ]
    },
    {
      "cell_type": "code",
      "metadata": {
        "id": "OM1y78_9tcny",
        "colab": {
          "base_uri": "https://localhost:8080/",
          "height": 275
        },
        "outputId": "f4491f96-ef10-4f7b-c456-5d1f4d28f255"
      },
      "source": [
        "df_dummy = pd.get_dummies(df_r1)\n",
        "df_dummy.head()"
      ],
      "execution_count": null,
      "outputs": [
        {
          "output_type": "execute_result",
          "data": {
            "text/html": [
              "<div>\n",
              "<style scoped>\n",
              "    .dataframe tbody tr th:only-of-type {\n",
              "        vertical-align: middle;\n",
              "    }\n",
              "\n",
              "    .dataframe tbody tr th {\n",
              "        vertical-align: top;\n",
              "    }\n",
              "\n",
              "    .dataframe thead th {\n",
              "        text-align: right;\n",
              "    }\n",
              "</style>\n",
              "<table border=\"1\" class=\"dataframe\">\n",
              "  <thead>\n",
              "    <tr style=\"text-align: right;\">\n",
              "      <th></th>\n",
              "      <th>Age</th>\n",
              "      <th>Happiness index</th>\n",
              "      <th>Distance from current Address</th>\n",
              "      <th>Attrition Status</th>\n",
              "      <th>Marital Status</th>\n",
              "      <th>Band_Manager</th>\n",
              "      <th>Band_P1</th>\n",
              "      <th>Band_P2</th>\n",
              "      <th>Department_FCC</th>\n",
              "      <th>Department_IT</th>\n",
              "      <th>Department_MT</th>\n",
              "      <th>Department_Operations</th>\n",
              "      <th>Department_PFS 1</th>\n",
              "      <th>Department_PFS 2</th>\n",
              "      <th>Department_SD</th>\n",
              "      <th>Department_Support</th>\n",
              "      <th>Designation_Analyst</th>\n",
              "      <th>Designation_Business Analyst</th>\n",
              "      <th>Designation_Coding Analyst</th>\n",
              "      <th>Designation_Executive</th>\n",
              "      <th>Designation_Executive Assistant</th>\n",
              "      <th>Designation_Manager</th>\n",
              "      <th>Designation_Senior Analyst</th>\n",
              "      <th>Designation_Team Lead</th>\n",
              "      <th>Education Field_Arts</th>\n",
              "      <th>Education Field_Commerce</th>\n",
              "      <th>Education Field_Management</th>\n",
              "      <th>Education Field_Medical</th>\n",
              "      <th>Education Field_Others</th>\n",
              "      <th>Education Field_Technical</th>\n",
              "      <th>Gender_Female</th>\n",
              "      <th>Gender_Male</th>\n",
              "      <th>Salary_Good</th>\n",
              "      <th>Salary_High</th>\n",
              "      <th>Salary_Very High</th>\n",
              "      <th>Rating_A</th>\n",
              "      <th>Rating_B</th>\n",
              "    </tr>\n",
              "  </thead>\n",
              "  <tbody>\n",
              "    <tr>\n",
              "      <th>0</th>\n",
              "      <td>40</td>\n",
              "      <td>4</td>\n",
              "      <td>6</td>\n",
              "      <td>0</td>\n",
              "      <td>1</td>\n",
              "      <td>1</td>\n",
              "      <td>0</td>\n",
              "      <td>0</td>\n",
              "      <td>0</td>\n",
              "      <td>0</td>\n",
              "      <td>0</td>\n",
              "      <td>1</td>\n",
              "      <td>0</td>\n",
              "      <td>0</td>\n",
              "      <td>0</td>\n",
              "      <td>0</td>\n",
              "      <td>0</td>\n",
              "      <td>0</td>\n",
              "      <td>0</td>\n",
              "      <td>1</td>\n",
              "      <td>0</td>\n",
              "      <td>0</td>\n",
              "      <td>0</td>\n",
              "      <td>0</td>\n",
              "      <td>0</td>\n",
              "      <td>0</td>\n",
              "      <td>0</td>\n",
              "      <td>0</td>\n",
              "      <td>0</td>\n",
              "      <td>1</td>\n",
              "      <td>0</td>\n",
              "      <td>1</td>\n",
              "      <td>0</td>\n",
              "      <td>1</td>\n",
              "      <td>0</td>\n",
              "      <td>1</td>\n",
              "      <td>0</td>\n",
              "    </tr>\n",
              "    <tr>\n",
              "      <th>1</th>\n",
              "      <td>46</td>\n",
              "      <td>4</td>\n",
              "      <td>2</td>\n",
              "      <td>0</td>\n",
              "      <td>1</td>\n",
              "      <td>0</td>\n",
              "      <td>0</td>\n",
              "      <td>1</td>\n",
              "      <td>0</td>\n",
              "      <td>0</td>\n",
              "      <td>0</td>\n",
              "      <td>1</td>\n",
              "      <td>0</td>\n",
              "      <td>0</td>\n",
              "      <td>0</td>\n",
              "      <td>0</td>\n",
              "      <td>0</td>\n",
              "      <td>0</td>\n",
              "      <td>0</td>\n",
              "      <td>0</td>\n",
              "      <td>1</td>\n",
              "      <td>0</td>\n",
              "      <td>0</td>\n",
              "      <td>0</td>\n",
              "      <td>0</td>\n",
              "      <td>0</td>\n",
              "      <td>0</td>\n",
              "      <td>1</td>\n",
              "      <td>0</td>\n",
              "      <td>0</td>\n",
              "      <td>0</td>\n",
              "      <td>1</td>\n",
              "      <td>0</td>\n",
              "      <td>0</td>\n",
              "      <td>1</td>\n",
              "      <td>1</td>\n",
              "      <td>0</td>\n",
              "    </tr>\n",
              "    <tr>\n",
              "      <th>2</th>\n",
              "      <td>37</td>\n",
              "      <td>4</td>\n",
              "      <td>5</td>\n",
              "      <td>0</td>\n",
              "      <td>1</td>\n",
              "      <td>0</td>\n",
              "      <td>1</td>\n",
              "      <td>0</td>\n",
              "      <td>0</td>\n",
              "      <td>0</td>\n",
              "      <td>0</td>\n",
              "      <td>0</td>\n",
              "      <td>1</td>\n",
              "      <td>0</td>\n",
              "      <td>0</td>\n",
              "      <td>0</td>\n",
              "      <td>0</td>\n",
              "      <td>0</td>\n",
              "      <td>0</td>\n",
              "      <td>0</td>\n",
              "      <td>0</td>\n",
              "      <td>0</td>\n",
              "      <td>0</td>\n",
              "      <td>1</td>\n",
              "      <td>1</td>\n",
              "      <td>0</td>\n",
              "      <td>0</td>\n",
              "      <td>0</td>\n",
              "      <td>0</td>\n",
              "      <td>0</td>\n",
              "      <td>0</td>\n",
              "      <td>1</td>\n",
              "      <td>0</td>\n",
              "      <td>1</td>\n",
              "      <td>0</td>\n",
              "      <td>1</td>\n",
              "      <td>0</td>\n",
              "    </tr>\n",
              "    <tr>\n",
              "      <th>3</th>\n",
              "      <td>51</td>\n",
              "      <td>4</td>\n",
              "      <td>2</td>\n",
              "      <td>0</td>\n",
              "      <td>1</td>\n",
              "      <td>0</td>\n",
              "      <td>1</td>\n",
              "      <td>0</td>\n",
              "      <td>0</td>\n",
              "      <td>0</td>\n",
              "      <td>1</td>\n",
              "      <td>0</td>\n",
              "      <td>0</td>\n",
              "      <td>0</td>\n",
              "      <td>0</td>\n",
              "      <td>0</td>\n",
              "      <td>0</td>\n",
              "      <td>1</td>\n",
              "      <td>0</td>\n",
              "      <td>0</td>\n",
              "      <td>0</td>\n",
              "      <td>0</td>\n",
              "      <td>0</td>\n",
              "      <td>0</td>\n",
              "      <td>0</td>\n",
              "      <td>0</td>\n",
              "      <td>0</td>\n",
              "      <td>0</td>\n",
              "      <td>0</td>\n",
              "      <td>1</td>\n",
              "      <td>0</td>\n",
              "      <td>1</td>\n",
              "      <td>0</td>\n",
              "      <td>1</td>\n",
              "      <td>0</td>\n",
              "      <td>1</td>\n",
              "      <td>0</td>\n",
              "    </tr>\n",
              "    <tr>\n",
              "      <th>4</th>\n",
              "      <td>56</td>\n",
              "      <td>4</td>\n",
              "      <td>4</td>\n",
              "      <td>0</td>\n",
              "      <td>1</td>\n",
              "      <td>0</td>\n",
              "      <td>0</td>\n",
              "      <td>1</td>\n",
              "      <td>1</td>\n",
              "      <td>0</td>\n",
              "      <td>0</td>\n",
              "      <td>0</td>\n",
              "      <td>0</td>\n",
              "      <td>0</td>\n",
              "      <td>0</td>\n",
              "      <td>0</td>\n",
              "      <td>0</td>\n",
              "      <td>0</td>\n",
              "      <td>0</td>\n",
              "      <td>0</td>\n",
              "      <td>0</td>\n",
              "      <td>1</td>\n",
              "      <td>0</td>\n",
              "      <td>0</td>\n",
              "      <td>0</td>\n",
              "      <td>0</td>\n",
              "      <td>0</td>\n",
              "      <td>0</td>\n",
              "      <td>1</td>\n",
              "      <td>0</td>\n",
              "      <td>1</td>\n",
              "      <td>0</td>\n",
              "      <td>0</td>\n",
              "      <td>0</td>\n",
              "      <td>1</td>\n",
              "      <td>0</td>\n",
              "      <td>1</td>\n",
              "    </tr>\n",
              "  </tbody>\n",
              "</table>\n",
              "</div>"
            ],
            "text/plain": [
              "   Age  Happiness index  ...  Rating_A  Rating_B\n",
              "0   40                4  ...         1         0\n",
              "1   46                4  ...         1         0\n",
              "2   37                4  ...         1         0\n",
              "3   51                4  ...         1         0\n",
              "4   56                4  ...         0         1\n",
              "\n",
              "[5 rows x 37 columns]"
            ]
          },
          "metadata": {
            "tags": []
          },
          "execution_count": 16
        }
      ]
    },
    {
      "cell_type": "code",
      "metadata": {
        "id": "AhQX2deBtfIW",
        "colab": {
          "base_uri": "https://localhost:8080/",
          "height": 646
        },
        "outputId": "7164a8cf-9efb-4e40-da23-7fc9eeb72720"
      },
      "source": [
        "for col in df_dummy.columns: \n",
        "    print(col) "
      ],
      "execution_count": null,
      "outputs": [
        {
          "output_type": "stream",
          "text": [
            "Age\n",
            "Happiness index\n",
            "Distance from current Address\n",
            "Attrition Status\n",
            "Marital Status\n",
            "Band_Manager\n",
            "Band_P1\n",
            "Band_P2\n",
            "Department_FCC\n",
            "Department_IT\n",
            "Department_MT\n",
            "Department_Operations\n",
            "Department_PFS 1\n",
            "Department_PFS 2\n",
            "Department_SD\n",
            "Department_Support\n",
            "Designation_Analyst\n",
            "Designation_Business Analyst\n",
            "Designation_Coding Analyst\n",
            "Designation_Executive\n",
            "Designation_Executive Assistant\n",
            "Designation_Manager\n",
            "Designation_Senior Analyst\n",
            "Designation_Team Lead\n",
            "Education Field_Arts\n",
            "Education Field_Commerce\n",
            "Education Field_Management\n",
            "Education Field_Medical\n",
            "Education Field_Others\n",
            "Education Field_Technical\n",
            "Gender_Female\n",
            "Gender_Male\n",
            "Salary_Good\n",
            "Salary_High\n",
            "Salary_Very High\n",
            "Rating_A\n",
            "Rating_B\n"
          ],
          "name": "stdout"
        }
      ]
    },
    {
      "cell_type": "code",
      "metadata": {
        "id": "e5_QfaHKthXb"
      },
      "source": [
        "df_r1_model = df_dummy\n",
        "\n",
        "y = df_r1_model['Attrition Status']\n",
        "X = df_r1_model.drop('Attrition Status', axis=1, inplace=False)"
      ],
      "execution_count": null,
      "outputs": []
    },
    {
      "cell_type": "code",
      "metadata": {
        "id": "t1eaWEmwtkuK",
        "colab": {
          "base_uri": "https://localhost:8080/",
          "height": 275
        },
        "outputId": "0d280c72-0f47-4450-f6c8-d2dea0e3108a"
      },
      "source": [
        "from sklearn.preprocessing import StandardScaler\n",
        "\n",
        "X_scaled = X.copy()\n",
        "\n",
        "col_names = ['Age', 'Happiness index', 'Distance from current Address', 'Marital Status']\n",
        "\n",
        "features = X_scaled[col_names]\n",
        "scaler = StandardScaler().fit(features.values)\n",
        "features = scaler.transform(features.values)\n",
        "\n",
        "X_scaled[col_names] = features\n",
        "X_scaled.head()"
      ],
      "execution_count": null,
      "outputs": [
        {
          "output_type": "execute_result",
          "data": {
            "text/html": [
              "<div>\n",
              "<style scoped>\n",
              "    .dataframe tbody tr th:only-of-type {\n",
              "        vertical-align: middle;\n",
              "    }\n",
              "\n",
              "    .dataframe tbody tr th {\n",
              "        vertical-align: top;\n",
              "    }\n",
              "\n",
              "    .dataframe thead th {\n",
              "        text-align: right;\n",
              "    }\n",
              "</style>\n",
              "<table border=\"1\" class=\"dataframe\">\n",
              "  <thead>\n",
              "    <tr style=\"text-align: right;\">\n",
              "      <th></th>\n",
              "      <th>Age</th>\n",
              "      <th>Happiness index</th>\n",
              "      <th>Distance from current Address</th>\n",
              "      <th>Marital Status</th>\n",
              "      <th>Band_Manager</th>\n",
              "      <th>Band_P1</th>\n",
              "      <th>Band_P2</th>\n",
              "      <th>Department_FCC</th>\n",
              "      <th>Department_IT</th>\n",
              "      <th>Department_MT</th>\n",
              "      <th>Department_Operations</th>\n",
              "      <th>Department_PFS 1</th>\n",
              "      <th>Department_PFS 2</th>\n",
              "      <th>Department_SD</th>\n",
              "      <th>Department_Support</th>\n",
              "      <th>Designation_Analyst</th>\n",
              "      <th>Designation_Business Analyst</th>\n",
              "      <th>Designation_Coding Analyst</th>\n",
              "      <th>Designation_Executive</th>\n",
              "      <th>Designation_Executive Assistant</th>\n",
              "      <th>Designation_Manager</th>\n",
              "      <th>Designation_Senior Analyst</th>\n",
              "      <th>Designation_Team Lead</th>\n",
              "      <th>Education Field_Arts</th>\n",
              "      <th>Education Field_Commerce</th>\n",
              "      <th>Education Field_Management</th>\n",
              "      <th>Education Field_Medical</th>\n",
              "      <th>Education Field_Others</th>\n",
              "      <th>Education Field_Technical</th>\n",
              "      <th>Gender_Female</th>\n",
              "      <th>Gender_Male</th>\n",
              "      <th>Salary_Good</th>\n",
              "      <th>Salary_High</th>\n",
              "      <th>Salary_Very High</th>\n",
              "      <th>Rating_A</th>\n",
              "      <th>Rating_B</th>\n",
              "    </tr>\n",
              "  </thead>\n",
              "  <tbody>\n",
              "    <tr>\n",
              "      <th>0</th>\n",
              "      <td>-0.159497</td>\n",
              "      <td>-0.098675</td>\n",
              "      <td>1.819213</td>\n",
              "      <td>0.0</td>\n",
              "      <td>1</td>\n",
              "      <td>0</td>\n",
              "      <td>0</td>\n",
              "      <td>0</td>\n",
              "      <td>0</td>\n",
              "      <td>0</td>\n",
              "      <td>1</td>\n",
              "      <td>0</td>\n",
              "      <td>0</td>\n",
              "      <td>0</td>\n",
              "      <td>0</td>\n",
              "      <td>0</td>\n",
              "      <td>0</td>\n",
              "      <td>0</td>\n",
              "      <td>1</td>\n",
              "      <td>0</td>\n",
              "      <td>0</td>\n",
              "      <td>0</td>\n",
              "      <td>0</td>\n",
              "      <td>0</td>\n",
              "      <td>0</td>\n",
              "      <td>0</td>\n",
              "      <td>0</td>\n",
              "      <td>0</td>\n",
              "      <td>1</td>\n",
              "      <td>0</td>\n",
              "      <td>1</td>\n",
              "      <td>0</td>\n",
              "      <td>1</td>\n",
              "      <td>0</td>\n",
              "      <td>1</td>\n",
              "      <td>0</td>\n",
              "    </tr>\n",
              "    <tr>\n",
              "      <th>1</th>\n",
              "      <td>0.500491</td>\n",
              "      <td>-0.098675</td>\n",
              "      <td>-0.990382</td>\n",
              "      <td>0.0</td>\n",
              "      <td>0</td>\n",
              "      <td>0</td>\n",
              "      <td>1</td>\n",
              "      <td>0</td>\n",
              "      <td>0</td>\n",
              "      <td>0</td>\n",
              "      <td>1</td>\n",
              "      <td>0</td>\n",
              "      <td>0</td>\n",
              "      <td>0</td>\n",
              "      <td>0</td>\n",
              "      <td>0</td>\n",
              "      <td>0</td>\n",
              "      <td>0</td>\n",
              "      <td>0</td>\n",
              "      <td>1</td>\n",
              "      <td>0</td>\n",
              "      <td>0</td>\n",
              "      <td>0</td>\n",
              "      <td>0</td>\n",
              "      <td>0</td>\n",
              "      <td>0</td>\n",
              "      <td>1</td>\n",
              "      <td>0</td>\n",
              "      <td>0</td>\n",
              "      <td>0</td>\n",
              "      <td>1</td>\n",
              "      <td>0</td>\n",
              "      <td>0</td>\n",
              "      <td>1</td>\n",
              "      <td>1</td>\n",
              "      <td>0</td>\n",
              "    </tr>\n",
              "    <tr>\n",
              "      <th>2</th>\n",
              "      <td>-0.489491</td>\n",
              "      <td>-0.098675</td>\n",
              "      <td>1.116814</td>\n",
              "      <td>0.0</td>\n",
              "      <td>0</td>\n",
              "      <td>1</td>\n",
              "      <td>0</td>\n",
              "      <td>0</td>\n",
              "      <td>0</td>\n",
              "      <td>0</td>\n",
              "      <td>0</td>\n",
              "      <td>1</td>\n",
              "      <td>0</td>\n",
              "      <td>0</td>\n",
              "      <td>0</td>\n",
              "      <td>0</td>\n",
              "      <td>0</td>\n",
              "      <td>0</td>\n",
              "      <td>0</td>\n",
              "      <td>0</td>\n",
              "      <td>0</td>\n",
              "      <td>0</td>\n",
              "      <td>1</td>\n",
              "      <td>1</td>\n",
              "      <td>0</td>\n",
              "      <td>0</td>\n",
              "      <td>0</td>\n",
              "      <td>0</td>\n",
              "      <td>0</td>\n",
              "      <td>0</td>\n",
              "      <td>1</td>\n",
              "      <td>0</td>\n",
              "      <td>1</td>\n",
              "      <td>0</td>\n",
              "      <td>1</td>\n",
              "      <td>0</td>\n",
              "    </tr>\n",
              "    <tr>\n",
              "      <th>3</th>\n",
              "      <td>1.050482</td>\n",
              "      <td>-0.098675</td>\n",
              "      <td>-0.990382</td>\n",
              "      <td>0.0</td>\n",
              "      <td>0</td>\n",
              "      <td>1</td>\n",
              "      <td>0</td>\n",
              "      <td>0</td>\n",
              "      <td>0</td>\n",
              "      <td>1</td>\n",
              "      <td>0</td>\n",
              "      <td>0</td>\n",
              "      <td>0</td>\n",
              "      <td>0</td>\n",
              "      <td>0</td>\n",
              "      <td>0</td>\n",
              "      <td>1</td>\n",
              "      <td>0</td>\n",
              "      <td>0</td>\n",
              "      <td>0</td>\n",
              "      <td>0</td>\n",
              "      <td>0</td>\n",
              "      <td>0</td>\n",
              "      <td>0</td>\n",
              "      <td>0</td>\n",
              "      <td>0</td>\n",
              "      <td>0</td>\n",
              "      <td>0</td>\n",
              "      <td>1</td>\n",
              "      <td>0</td>\n",
              "      <td>1</td>\n",
              "      <td>0</td>\n",
              "      <td>1</td>\n",
              "      <td>0</td>\n",
              "      <td>1</td>\n",
              "      <td>0</td>\n",
              "    </tr>\n",
              "    <tr>\n",
              "      <th>4</th>\n",
              "      <td>1.600472</td>\n",
              "      <td>-0.098675</td>\n",
              "      <td>0.414415</td>\n",
              "      <td>0.0</td>\n",
              "      <td>0</td>\n",
              "      <td>0</td>\n",
              "      <td>1</td>\n",
              "      <td>1</td>\n",
              "      <td>0</td>\n",
              "      <td>0</td>\n",
              "      <td>0</td>\n",
              "      <td>0</td>\n",
              "      <td>0</td>\n",
              "      <td>0</td>\n",
              "      <td>0</td>\n",
              "      <td>0</td>\n",
              "      <td>0</td>\n",
              "      <td>0</td>\n",
              "      <td>0</td>\n",
              "      <td>0</td>\n",
              "      <td>1</td>\n",
              "      <td>0</td>\n",
              "      <td>0</td>\n",
              "      <td>0</td>\n",
              "      <td>0</td>\n",
              "      <td>0</td>\n",
              "      <td>0</td>\n",
              "      <td>1</td>\n",
              "      <td>0</td>\n",
              "      <td>1</td>\n",
              "      <td>0</td>\n",
              "      <td>0</td>\n",
              "      <td>0</td>\n",
              "      <td>1</td>\n",
              "      <td>0</td>\n",
              "      <td>1</td>\n",
              "    </tr>\n",
              "  </tbody>\n",
              "</table>\n",
              "</div>"
            ],
            "text/plain": [
              "        Age  Happiness index  ...  Rating_A  Rating_B\n",
              "0 -0.159497        -0.098675  ...         1         0\n",
              "1  0.500491        -0.098675  ...         1         0\n",
              "2 -0.489491        -0.098675  ...         1         0\n",
              "3  1.050482        -0.098675  ...         1         0\n",
              "4  1.600472        -0.098675  ...         0         1\n",
              "\n",
              "[5 rows x 36 columns]"
            ]
          },
          "metadata": {
            "tags": []
          },
          "execution_count": 19
        }
      ]
    },
    {
      "cell_type": "code",
      "metadata": {
        "id": "0Pqi6EKZtnlc"
      },
      "source": [
        "from sklearn.model_selection import train_test_split\n",
        "X_train, X_test, y_train, y_test = train_test_split(X_scaled,y,test_size=0.3,random_state=0)"
      ],
      "execution_count": null,
      "outputs": []
    },
    {
      "cell_type": "code",
      "metadata": {
        "id": "nwy7i5h9tqub",
        "colab": {
          "base_uri": "https://localhost:8080/",
          "height": 34
        },
        "outputId": "0ff3196a-4b69-4041-e683-7ae1ac3d70fa"
      },
      "source": [
        "import time\n",
        "start = time.time()\n",
        "xgb = XGBClassifier()\n",
        "xgb.fit(X_train, y_train)\n",
        "end = time.time()\n",
        "xgb_time = end-start\n",
        "print('Train Time (seconds) of XGBOOST without PCA:',xgb_time)"
      ],
      "execution_count": null,
      "outputs": [
        {
          "output_type": "stream",
          "text": [
            "Train Time (seconds) of XGBOOST without PCA: 0.13508987426757812\n"
          ],
          "name": "stdout"
        }
      ]
    },
    {
      "cell_type": "code",
      "metadata": {
        "id": "CkvaYon9t0IA",
        "colab": {
          "base_uri": "https://localhost:8080/",
          "height": 550
        },
        "outputId": "f39243db-ab2a-4ce7-d8c9-2faa13b2edd7"
      },
      "source": [
        "from sklearn.metrics import roc_auc_score\n",
        "from sklearn.metrics import roc_curve\n",
        "from sklearn.metrics import classification_report\n",
        "from sklearn.metrics import confusion_matrix\n",
        "\n",
        "y_pred_xgb = xgb.predict(X_test)\n",
        "\n",
        "xgb_roc_auc = roc_auc_score(y_test,y_pred_xgb)\n",
        "fpr, tpr, thresholds = roc_curve(y_test,xgb.predict_proba(X_test)[:,1])\n",
        "plt.figure()\n",
        "plt.plot(fpr, tpr, label='XGBOOST (Area = %0.2f)' % xgb_roc_auc)\n",
        "plt.plot([0,1],[0,1],'r--')\n",
        "plt.xlim([0.0,1.0])\n",
        "plt.ylim([0.0,1.05])\n",
        "plt.xlabel('Fasle Positive Rate')\n",
        "plt.ylabel('True Positive Rate')\n",
        "plt.title('Receiver Operating Characteristics')\n",
        "plt.legend(loc=\"lower right\")\n",
        "plt.show()\n",
        "\n",
        "confusion_matrix_xgb = confusion_matrix(y_test,y_pred_xgb)\n",
        "print(\"\\nConfusion Matrix\")\n",
        "print(confusion_matrix_xgb)\n",
        "\n",
        "classify_xgb = classification_report(y_test, y_pred_xgb)\n",
        "print(\"\\nClassification Report\")\n",
        "print(classify_xgb)"
      ],
      "execution_count": null,
      "outputs": [
        {
          "output_type": "display_data",
          "data": {
            "image/png": "[encoded data removed]",
            "text/plain": [
              "<Figure size 432x288 with 1 Axes>"
            ]
          },
          "metadata": {
            "tags": []
          }
        },
        {
          "output_type": "stream",
          "text": [
            "\n",
            "Confusion Matrix\n",
            "[[103   0]\n",
            " [  3  14]]\n",
            "\n",
            "Classification Report\n",
            "              precision    recall  f1-score   support\n",
            "\n",
            "           0       0.97      1.00      0.99       103\n",
            "           1       1.00      0.82      0.90        17\n",
            "\n",
            "    accuracy                           0.97       120\n",
            "   macro avg       0.99      0.91      0.94       120\n",
            "weighted avg       0.98      0.97      0.97       120\n",
            "\n"
          ],
          "name": "stdout"
        }
      ]
    },
    {
      "cell_type": "code",
      "metadata": {
        "id": "4mE1vDRHujW9",
        "colab": {
          "base_uri": "https://localhost:8080/",
          "height": 34
        },
        "outputId": "4f1bf59c-93c8-4bb4-bd3f-6dea2eeca323"
      },
      "source": [
        "y_pred = xgb.predict(X_test)\n",
        "predictions = [round(value) for value in y_pred]\n",
        "\n",
        "accuracy = accuracy_score(y_test, predictions)\n",
        "print(\"Accuracy: %.2f%%\" % (accuracy * 100.0))"
      ],
      "execution_count": null,
      "outputs": [
        {
          "output_type": "stream",
          "text": [
            "Accuracy: 97.50%\n"
          ],
          "name": "stdout"
        }
      ]
    },
    {
      "cell_type": "markdown",
      "metadata": {
        "id": "XzZjfjogvF7f"
      },
      "source": [
        "WITH PCA"
      ]
    },
    {
      "cell_type": "code",
      "metadata": {
        "id": "1GSuejrHvRuw",
        "colab": {
          "base_uri": "https://localhost:8080/",
          "height": 34
        },
        "outputId": "4f155fbe-290e-4673-9045-17800353c421"
      },
      "source": [
        "from sklearn.decomposition import PCA\n",
        "\n",
        "\n",
        "n = 90\n",
        "pca = PCA(n/100)\n",
        "\n",
        "\n",
        "pca.fit(X_train)\n",
        "\n",
        "print('To retain',n,'% of the variation, we needed',pca.n_components_,'components')"
      ],
      "execution_count": null,
      "outputs": [
        {
          "output_type": "stream",
          "text": [
            "To retain 90 % of the variation, we needed 15 components\n"
          ],
          "name": "stdout"
        }
      ]
    },
    {
      "cell_type": "code",
      "metadata": {
        "id": "7jWwZXu1vWGK"
      },
      "source": [
        "X_train_pca = pca.transform(X_train)\n",
        "X_test_pca = pca.transform(X_test)"
      ],
      "execution_count": null,
      "outputs": []
    },
    {
      "cell_type": "code",
      "metadata": {
        "id": "ou3adNCOvYpS",
        "colab": {
          "base_uri": "https://localhost:8080/",
          "height": 34
        },
        "outputId": "be8e9e8d-8926-46c2-99c0-5ab6d24ed335"
      },
      "source": [
        "start = time.time()\n",
        "\n",
        "xgb_pca = XGBClassifier()\n",
        "xgb_pca.fit(X_train_pca, y_train)\n",
        "\n",
        "end = time.time()\n",
        "xgb_time_pca = end-start\n",
        "print('Train Time (seconds) of XGBOOST with PCA:',xgb_time_pca)"
      ],
      "execution_count": null,
      "outputs": [
        {
          "output_type": "stream",
          "text": [
            "Train Time (seconds) of XGBOOST with PCA: 0.04611921310424805\n"
          ],
          "name": "stdout"
        }
      ]
    },
    {
      "cell_type": "code",
      "metadata": {
        "id": "rRPBzDQavx9_",
        "colab": {
          "base_uri": "https://localhost:8080/",
          "height": 550
        },
        "outputId": "508ac89a-91ee-4e08-99c9-b09aa1819085"
      },
      "source": [
        "y_pred_xgb_pca = xgb_pca.predict(X_test_pca)\n",
        "\n",
        "xgb_roc_auc_pca = roc_auc_score(y_test,y_pred_xgb_pca)\n",
        "fpr, tpr, thresholds = roc_curve(y_test,xgb_pca.predict_proba(X_test_pca)[:,1])\n",
        "plt.figure()\n",
        "plt.plot(fpr, tpr, label='XGBOOST (Area = %0.2f)' % xgb_roc_auc_pca)\n",
        "plt.plot([0,1],[0,1],'r--')\n",
        "plt.xlim([0.0,1.0])\n",
        "plt.ylim([0.0,1.05])\n",
        "plt.xlabel('Fasle Positive Rate')\n",
        "plt.ylabel('True Positive Rate')\n",
        "plt.title('Receiver Operating Characteristics')\n",
        "plt.legend(loc=\"lower right\")\n",
        "plt.show()\n",
        "\n",
        "confusion_matrix_xgb_pca = confusion_matrix(y_test,y_pred_xgb_pca)\n",
        "print(\"\\nConfusion Matrix\")\n",
        "print(confusion_matrix_xgb_pca)\n",
        "\n",
        "classify_xgb_pca = classification_report(y_test, y_pred_xgb_pca)\n",
        "print(\"\\nClassification Report\")\n",
        "print(classify_xgb_pca)"
      ],
      "execution_count": null,
      "outputs": [
        {
          "output_type": "display_data",
          "data": {
            "image/png": "[encoded data removed]",
            "text/plain": [
              "<Figure size 432x288 with 1 Axes>"
            ]
          },
          "metadata": {
            "tags": []
          }
        },
        {
          "output_type": "stream",
          "text": [
            "\n",
            "Confusion Matrix\n",
            "[[102   1]\n",
            " [  4  13]]\n",
            "\n",
            "Classification Report\n",
            "              precision    recall  f1-score   support\n",
            "\n",
            "           0       0.96      0.99      0.98       103\n",
            "           1       0.93      0.76      0.84        17\n",
            "\n",
            "    accuracy                           0.96       120\n",
            "   macro avg       0.95      0.88      0.91       120\n",
            "weighted avg       0.96      0.96      0.96       120\n",
            "\n"
          ],
          "name": "stdout"
        }
      ]
    },
    {
      "cell_type": "code",
      "metadata": {
        "id": "irnLp0jKwWMh",
        "colab": {
          "base_uri": "https://localhost:8080/",
          "height": 80
        },
        "outputId": "7e8e8c15-cdee-4a61-fc70-4343e10b726f"
      },
      "source": [
        "accuracy = {'Model': ['XGBOOST'], \n",
        "               'Accuracy - no PCA (%)': [97], \n",
        "               'Accuracy - PCA (%)': [96]\n",
        "              }\n",
        "\n",
        "\n",
        "acc = pd.DataFrame(data=accuracy)\n",
        "\n",
        "acc"
      ],
      "execution_count": null,
      "outputs": [
        {
          "output_type": "execute_result",
          "data": {
            "text/html": [
              "<div>\n",
              "<style scoped>\n",
              "    .dataframe tbody tr th:only-of-type {\n",
              "        vertical-align: middle;\n",
              "    }\n",
              "\n",
              "    .dataframe tbody tr th {\n",
              "        vertical-align: top;\n",
              "    }\n",
              "\n",
              "    .dataframe thead th {\n",
              "        text-align: right;\n",
              "    }\n",
              "</style>\n",
              "<table border=\"1\" class=\"dataframe\">\n",
              "  <thead>\n",
              "    <tr style=\"text-align: right;\">\n",
              "      <th></th>\n",
              "      <th>Model</th>\n",
              "      <th>Accuracy - no PCA (%)</th>\n",
              "      <th>Accuracy - PCA (%)</th>\n",
              "    </tr>\n",
              "  </thead>\n",
              "  <tbody>\n",
              "    <tr>\n",
              "      <th>0</th>\n",
              "      <td>XGBOOST</td>\n",
              "      <td>97</td>\n",
              "      <td>96</td>\n",
              "    </tr>\n",
              "  </tbody>\n",
              "</table>\n",
              "</div>"
            ],
            "text/plain": [
              "     Model  Accuracy - no PCA (%)  Accuracy - PCA (%)\n",
              "0  XGBOOST                     97                  96"
            ]
          },
          "metadata": {
            "tags": []
          },
          "execution_count": 39
        }
      ]
    },
    {
      "cell_type": "code",
      "metadata": {
        "id": "07pQuCA5w96E",
        "colab": {
          "base_uri": "https://localhost:8080/",
          "height": 746
        },
        "outputId": "17dae1b2-f21e-4576-8f43-2445e6f7b5c9"
      },
      "source": [
        "sns.set_style(style='white')\n",
        "ax = acc.plot(kind='bar', figsize=(20,8), width=0.4, color=['#42b3d5', '#e85285'], fontsize=18)\n",
        "\n",
        "ax.legend(loc='best')\n",
        "plt.xticks(rotation=0, ha=\"center\")\n",
        "\n",
        "ax.spines['top'].set_visible(False)\n",
        "ax.spines['right'].set_visible(False)\n",
        "ax.spines['bottom'].set_linewidth(False)\n",
        "ax.spines['left'].set_linewidth(False)\n",
        "\n",
        "ax.yaxis.grid()\n",
        "ax.get_yaxis().set_visible(False)\n",
        "plt.title('Impact of PCA on Accuracy (%)', fontsize=20)\n",
        "\n",
        "for n in range(2):\n",
        "    for index, val in enumerate(acc.iloc[:,n].transpose()): \n",
        "        label=str(val) + '%'\n",
        "        \n",
        "        if n==0:\n",
        "            ax.annotate(label, xy=(index-0.15, val-5), color='#ffffff', fontsize=14, fontweight='bold')\n",
        "        elif n==1:\n",
        "            ax.annotate(label, xy=(index+0.05, val-5), color='#ffffff', fontsize=14, fontweight='bold')\n",
        "\n",
        "plt.show()"
      ],
      "execution_count": null,
      "outputs": [
        {
          "output_type": "error",
          "ename": "TypeError",
          "evalue": "ignored",
          "traceback": [
            "\u001b[0;31m---------------------------------------------------------------------------\u001b[0m",
            "\u001b[0;31mTypeError\u001b[0m                                 Traceback (most recent call last)",
            "\u001b[0;32m<ipython-input-44-75500c837c79>\u001b[0m in \u001b[0;36m<module>\u001b[0;34m()\u001b[0m\n\u001b[1;32m     19\u001b[0m \u001b[0;34m\u001b[0m\u001b[0m\n\u001b[1;32m     20\u001b[0m         \u001b[0;32mif\u001b[0m \u001b[0mn\u001b[0m\u001b[0;34m==\u001b[0m\u001b[0;36m0\u001b[0m\u001b[0;34m:\u001b[0m\u001b[0;34m\u001b[0m\u001b[0;34m\u001b[0m\u001b[0m\n\u001b[0;32m---> 21\u001b[0;31m             \u001b[0max\u001b[0m\u001b[0;34m.\u001b[0m\u001b[0mannotate\u001b[0m\u001b[0;34m(\u001b[0m\u001b[0mlabel\u001b[0m\u001b[0;34m,\u001b[0m \u001b[0mxy\u001b[0m\u001b[0;34m=\u001b[0m\u001b[0;34m(\u001b[0m\u001b[0mindex\u001b[0m\u001b[0;34m-\u001b[0m\u001b[0;36m0.15\u001b[0m\u001b[0;34m,\u001b[0m \u001b[0mval\u001b[0m\u001b[0;34m-\u001b[0m\u001b[0;36m5\u001b[0m\u001b[0;34m)\u001b[0m\u001b[0;34m,\u001b[0m \u001b[0mcolor\u001b[0m\u001b[0;34m=\u001b[0m\u001b[0;34m'#ffffff'\u001b[0m\u001b[0;34m,\u001b[0m \u001b[0mfontsize\u001b[0m\u001b[0;34m=\u001b[0m\u001b[0;36m14\u001b[0m\u001b[0;34m,\u001b[0m \u001b[0mfontweight\u001b[0m\u001b[0;34m=\u001b[0m\u001b[0;34m'bold'\u001b[0m\u001b[0;34m)\u001b[0m\u001b[0;34m\u001b[0m\u001b[0;34m\u001b[0m\u001b[0m\n\u001b[0m\u001b[1;32m     22\u001b[0m         \u001b[0;32melif\u001b[0m \u001b[0mn\u001b[0m\u001b[0;34m==\u001b[0m\u001b[0;36m1\u001b[0m\u001b[0;34m:\u001b[0m\u001b[0;34m\u001b[0m\u001b[0;34m\u001b[0m\u001b[0m\n\u001b[1;32m     23\u001b[0m             \u001b[0max\u001b[0m\u001b[0;34m.\u001b[0m\u001b[0mannotate\u001b[0m\u001b[0;34m(\u001b[0m\u001b[0mlabel\u001b[0m\u001b[0;34m,\u001b[0m \u001b[0mxy\u001b[0m\u001b[0;34m=\u001b[0m\u001b[0;34m(\u001b[0m\u001b[0mindex\u001b[0m\u001b[0;34m+\u001b[0m\u001b[0;36m0.05\u001b[0m\u001b[0;34m,\u001b[0m \u001b[0mval\u001b[0m\u001b[0;34m-\u001b[0m\u001b[0;36m5\u001b[0m\u001b[0;34m)\u001b[0m\u001b[0;34m,\u001b[0m \u001b[0mcolor\u001b[0m\u001b[0;34m=\u001b[0m\u001b[0;34m'#ffffff'\u001b[0m\u001b[0;34m,\u001b[0m \u001b[0mfontsize\u001b[0m\u001b[0;34m=\u001b[0m\u001b[0;36m14\u001b[0m\u001b[0;34m,\u001b[0m \u001b[0mfontweight\u001b[0m\u001b[0;34m=\u001b[0m\u001b[0;34m'bold'\u001b[0m\u001b[0;34m)\u001b[0m\u001b[0;34m\u001b[0m\u001b[0;34m\u001b[0m\u001b[0m\n",
            "\u001b[0;31mTypeError\u001b[0m: unsupported operand type(s) for -: 'str' and 'int'"
          ]
        },
        {
          "output_type": "display_data",
          "data": {
            "image/png": "[encoded data removed]",
            "text/plain": [
              "<Figure size 1440x576 with 1 Axes>"
            ]
          },
          "metadata": {
            "tags": []
          }
        }
      ]
    },
    {
      "cell_type": "code",
      "metadata": {
        "id": "p_CeSoldxJGD",
        "colab": {
          "base_uri": "https://localhost:8080/",
          "height": 80
        },
        "outputId": "c76b015e-4ab4-4186-db57-e48647a9de49"
      },
      "source": [
        "time = {'Model': ['XGBOOST'],\n",
        "                  'Train Time - no PCA (s) ': [xgb_time],\n",
        "                  'Train Time - PCA (s) ': [xgb_time_pca]\n",
        "               }\n",
        "\n",
        "\n",
        "tm = pd.DataFrame(data=time)\n",
        "tm"
      ],
      "execution_count": null,
      "outputs": [
        {
          "output_type": "execute_result",
          "data": {
            "text/html": [
              "<div>\n",
              "<style scoped>\n",
              "    .dataframe tbody tr th:only-of-type {\n",
              "        vertical-align: middle;\n",
              "    }\n",
              "\n",
              "    .dataframe tbody tr th {\n",
              "        vertical-align: top;\n",
              "    }\n",
              "\n",
              "    .dataframe thead th {\n",
              "        text-align: right;\n",
              "    }\n",
              "</style>\n",
              "<table border=\"1\" class=\"dataframe\">\n",
              "  <thead>\n",
              "    <tr style=\"text-align: right;\">\n",
              "      <th></th>\n",
              "      <th>Model</th>\n",
              "      <th>Train Time - no PCA (s)</th>\n",
              "      <th>Train Time - PCA (s)</th>\n",
              "    </tr>\n",
              "  </thead>\n",
              "  <tbody>\n",
              "    <tr>\n",
              "      <th>0</th>\n",
              "      <td>XGBOOST</td>\n",
              "      <td>0.13509</td>\n",
              "      <td>0.046119</td>\n",
              "    </tr>\n",
              "  </tbody>\n",
              "</table>\n",
              "</div>"
            ],
            "text/plain": [
              "     Model  Train Time - no PCA (s)   Train Time - PCA (s) \n",
              "0  XGBOOST                   0.13509               0.046119"
            ]
          },
          "metadata": {
            "tags": []
          },
          "execution_count": 41
        }
      ]
    },
    {
      "cell_type": "code",
      "metadata": {
        "id": "LRmE1qxYxXdM"
      },
      "source": [
        "tm = tm.set_index('Model')"
      ],
      "execution_count": null,
      "outputs": []
    },
    {
      "cell_type": "code",
      "metadata": {
        "id": "lr6QRBXVxbdl",
        "colab": {
          "base_uri": "https://localhost:8080/",
          "height": 546
        },
        "outputId": "dff8b382-f7b0-4ab7-d5ce-7fb49031702d"
      },
      "source": [
        "sns.set_style(style='white')\n",
        "\n",
        "ax = tm.plot(kind='bar', figsize=(20,8), width=0.6, color=['#9932CC', '#76EE00'], fontsize=18)\n",
        "\n",
        "ax.legend(loc='best')\n",
        "plt.xticks(rotation=0, ha=\"center\")\n",
        "\n",
        "ax.spines['top'].set_visible(False)\n",
        "ax.spines['right'].set_visible(False)\n",
        "ax.spines['bottom'].set_linewidth(False)\n",
        "ax.spines['left'].set_linewidth(False)\n",
        "ax.yaxis.grid()\n",
        "ax.get_yaxis().set_visible(False)\n",
        "plt.title('Impact of PCA on Train Time (Seconds)', fontsize=20)\n",
        "\n",
        "\n",
        "for n in range(2):\n",
        "    for index, val in enumerate(tm.iloc[:,n].transpose()): \n",
        "        label=str(round(val,4))\n",
        "        \n",
        "        if n==0:\n",
        "            ax.annotate(label, xy=(index-0.25, val+0.007), color='#9932CC', fontsize=14, fontweight='bold')\n",
        "        elif n==1:\n",
        "            ax.annotate(label, xy=(index+0.05, val+0.007), color='#76EE00', fontsize=14, fontweight='bold')"
      ],
      "execution_count": null,
      "outputs": [
        {
          "output_type": "display_data",
          "data": {
            "image/png": "[encoded data removed]",
            "text/plain": [
              "<Figure size 1440x576 with 1 Axes>"
            ]
          },
          "metadata": {
            "tags": []
          }
        }
      ]
    },
    {
      "cell_type": "code",
      "metadata": {
        "id": "xtuIBBc2xePW"
      },
      "source": [
        ""
      ],
      "execution_count": null,
      "outputs": []
    }
  ]
}