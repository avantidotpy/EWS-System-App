{
 "cells": [
  {
   "cell_type": "code",
   "execution_count": 1,
   "metadata": {},
   "outputs": [
    {
     "name": "stdout",
     "output_type": "stream",
     "text": [
      "Today's date: 2020-03-17\n"
     ]
    }
   ],
   "source": [
    "from datetime import date\n",
    "\n",
    "today = date.today()\n",
    "print(\"Today's date:\", today)"
   ]
  },
  {
   "cell_type": "code",
   "execution_count": 2,
   "metadata": {},
   "outputs": [],
   "source": [
    "import pandas as pd"
   ]
  },
  {
   "cell_type": "code",
   "execution_count": 3,
   "metadata": {},
   "outputs": [],
   "source": [
    "data = pd.read_csv(\"../Interim_Manager_filled.csv\")"
   ]
  },
  {
   "cell_type": "code",
   "execution_count": 4,
   "metadata": {},
   "outputs": [],
   "source": [
    "unique_managers = data['Interim Manager'].unique()"
   ]
  },
  {
   "cell_type": "code",
   "execution_count": 5,
   "metadata": {},
   "outputs": [
    {
     "data": {
      "text/plain": [
       "50"
      ]
     },
     "execution_count": 5,
     "metadata": {},
     "output_type": "execute_result"
    }
   ],
   "source": [
    "len(unique_managers)#As Decided. Works Perfectly well."
   ]
  },
  {
   "cell_type": "code",
   "execution_count": 6,
   "metadata": {},
   "outputs": [
    {
     "name": "stdout",
     "output_type": "stream",
     "text": [
      "Tracker Value:  0\n",
      "Tracker Value:  1\n",
      "Tracker Value:  2\n",
      "Tracker Value:  3\n",
      "Tracker Value:  4\n",
      "Tracker Value:  5\n",
      "Tracker Value:  6\n",
      "Tracker Value:  7\n",
      "Tracker Value:  8\n",
      "Tracker Value:  9\n",
      "Tracker Value:  10\n",
      "Tracker Value:  11\n",
      "Tracker Value:  12\n",
      "Tracker Value:  13\n",
      "Tracker Value:  14\n",
      "Tracker Value:  15\n",
      "Tracker Value:  16\n",
      "Tracker Value:  17\n",
      "Tracker Value:  18\n",
      "Tracker Value:  19\n",
      "Tracker Value:  20\n",
      "Tracker Value:  21\n",
      "Tracker Value:  22\n",
      "Tracker Value:  23\n",
      "Tracker Value:  24\n",
      "Tracker Value:  25\n",
      "Tracker Value:  26\n",
      "Tracker Value:  27\n",
      "Tracker Value:  28\n",
      "Tracker Value:  29\n",
      "Tracker Value:  30\n",
      "Tracker Value:  31\n",
      "Tracker Value:  32\n",
      "Tracker Value:  33\n",
      "Tracker Value:  34\n",
      "Tracker Value:  35\n",
      "Tracker Value:  36\n",
      "Tracker Value:  37\n",
      "Tracker Value:  38\n",
      "Tracker Value:  39\n",
      "Tracker Value:  40\n",
      "Tracker Value:  41\n",
      "Tracker Value:  42\n",
      "Tracker Value:  43\n",
      "Tracker Value:  44\n",
      "Tracker Value:  45\n",
      "Tracker Value:  46\n",
      "Tracker Value:  47\n",
      "Tracker Value:  48\n",
      "Tracker Value:  49\n"
     ]
    }
   ],
   "source": [
    "#Now We will generate a Report for every manager\n",
    "#Let's Call it Hit Rate for a Manager.\n",
    "unique_manager_count = []#Interim list which will be zipped with the former list.\n",
    "tracker = 0\n",
    "for j in unique_managers:\n",
    "    print(\"Tracker Value: \",+tracker)\n",
    "    count = 0 #Reset for each new Manager.\n",
    "    for i in (data['Interim Manager']):\n",
    "        if j == i:\n",
    "            count = count + 1\n",
    "    unique_manager_count.append(count)\n",
    "    tracker = tracker + 1\n",
    "    \n",
    "    \n",
    "    "
   ]
  },
  {
   "cell_type": "code",
   "execution_count": 7,
   "metadata": {},
   "outputs": [
    {
     "name": "stdout",
     "output_type": "stream",
     "text": [
      "Manager Name\tCount\n",
      "Timothy Mi \t 214\n",
      "Roy Chapma \t 632\n",
      "Ryan Shook \t 196\n",
      "Rita Owens \t 254\n",
      "William Mc \t 163\n",
      "John Kinse \t 183\n",
      "Mirella Sw \t 223\n",
      "Will Fried \t 314\n",
      "Karen Slye \t 340\n",
      "Frank Kani \t 263\n",
      "Doug Maddo \t 197\n",
      "Joe Moore \t 213\n",
      "Mary Mille \t 224\n",
      "Ryan Richa \t 175\n",
      "Sharon Wei \t 182\n",
      "William Ne \t 170\n",
      "Margarita  \t 148\n",
      "Joanne Nel \t 384\n",
      "Ann Hoffma \t 150\n",
      "Jeff Thurm \t 185\n",
      "Kerri Sand \t 288\n",
      "David Varg \t 224\n",
      "Linda Bish \t 212\n",
      "Barbara To \t 168\n",
      "Julius Wri \t 350\n",
      "Tanisha Ro \t 148\n",
      "James Lang \t 169\n",
      "Tonia Weav \t 271\n",
      "Adam Leyva \t 214\n",
      "Roy Woolf \t 166\n",
      "Dennis Dav \t 220\n",
      "Han Nichol \t 385\n",
      "Ralph Wool \t 173\n",
      "Stella Mck \t 400\n",
      "Steven Lan \t 462\n",
      "Barbara Me \t 161\n",
      "Eva Stefan \t 317\n",
      "Gerard Bel \t 233\n",
      "Sandra Mar \t 192\n",
      "Christine  \t 231\n",
      "Gene Lantz \t 281\n",
      "Betty Utte \t 231\n",
      "Aileen Pal \t 162\n",
      "Stacie Fre \t 227\n",
      "Samuel Kli \t 200\n",
      "Jean Schaf \t 269\n",
      "George Qui \t 196\n",
      "Joaquin Po \t 260\n",
      "Gayla Wojc \t 176\n",
      "Jane Jones \t 204\n"
     ]
    }
   ],
   "source": [
    "tracker = 0\n",
    "for i in range(len(unique_managers)):\n",
    "    if tracker == 0:\n",
    "        print(\"Manager Name\\tCount\")\n",
    "        tracker = 1\n",
    "    print(unique_managers[i][0:10],\"\\t\",+unique_manager_count[i])\n",
    "        "
   ]
  },
  {
   "cell_type": "code",
   "execution_count": 8,
   "metadata": {},
   "outputs": [
    {
     "name": "stdout",
     "output_type": "stream",
     "text": [
      "Manager: Timothy Mingo\n",
      "Manager: Roy Chapman\n",
      "Manager: Ryan Shook\n",
      "Manager: Rita Owens\n",
      "Manager: William Mccarthy\n",
      "Manager: John Kinsey\n",
      "Manager: Mirella Swett\n",
      "Manager: Will Friedman\n",
      "Manager: Karen Slye\n",
      "Manager: Frank Kanish\n",
      "Manager: Doug Maddox\n",
      "Manager: Joe Moore\n",
      "Manager: Mary Miller\n",
      "Manager: Ryan Richards\n",
      "Manager: Sharon Weidner\n",
      "Manager: William Nelson\n",
      "Manager: Margarita Aldredge\n",
      "Manager: Joanne Nelson\n",
      "Manager: Ann Hoffman\n",
      "Manager: Jeff Thurman\n",
      "Manager: Kerri Sanders\n",
      "Manager: David Vargas\n",
      "Manager: Linda Bishop\n",
      "Manager: Barbara Towell\n",
      "Manager: Julius Wright\n",
      "Manager: Tanisha Rodriguez\n",
      "Manager: James Langford\n",
      "Manager: Tonia Weaver\n",
      "Manager: Adam Leyva\n",
      "Manager: Roy Woolf\n",
      "Manager: Dennis Davis\n",
      "Manager: Han Nichols\n",
      "Manager: Ralph Woolcott\n",
      "Manager: Stella Mckoy\n",
      "Manager: Steven Lane\n",
      "Manager: Barbara Medel\n",
      "Manager: Eva Stefanski\n",
      "Manager: Gerard Bellinger\n",
      "Manager: Sandra Martinez\n",
      "Manager: Christine Mcmaster\n",
      "Manager: Gene Lantz\n",
      "Manager: Betty Utterback\n",
      "Manager: Aileen Palmiter\n",
      "Manager: Stacie French\n",
      "Manager: Samuel Kline\n",
      "Manager: Jean Schafer\n",
      "Manager: George Quintanilla\n",
      "Manager: Joaquin Powell\n",
      "Manager: Gayla Wojciechowski\n",
      "Manager: Jane Jones\n",
      "Verifying Numeric Entries!!..\n",
      "Verified Entry:  0\n",
      "Verified Entry:  1\n",
      "Verified Entry:  2\n",
      "Verified Entry:  3\n",
      "Verified Entry:  4\n",
      "Verified Entry:  5\n",
      "Verified Entry:  6\n",
      "Verified Entry:  7\n",
      "Verified Entry:  8\n",
      "Verified Entry:  9\n",
      "Verified Entry:  10\n",
      "Verified Entry:  11\n",
      "Verified Entry:  12\n",
      "Verified Entry:  13\n",
      "Verified Entry:  14\n",
      "Verified Entry:  15\n",
      "Verified Entry:  16\n",
      "Verified Entry:  17\n",
      "Verified Entry:  18\n",
      "Verified Entry:  19\n",
      "Verified Entry:  20\n",
      "Verified Entry:  21\n",
      "Verified Entry:  22\n",
      "Verified Entry:  23\n",
      "Verified Entry:  24\n",
      "Verified Entry:  25\n",
      "Verified Entry:  26\n",
      "Verified Entry:  27\n",
      "Verified Entry:  28\n",
      "Verified Entry:  29\n",
      "Verified Entry:  30\n",
      "Verified Entry:  31\n",
      "Verified Entry:  32\n",
      "Verified Entry:  33\n",
      "Verified Entry:  34\n",
      "Verified Entry:  35\n",
      "Verified Entry:  36\n",
      "Verified Entry:  37\n",
      "Verified Entry:  38\n",
      "Verified Entry:  39\n",
      "Verified Entry:  40\n",
      "Verified Entry:  41\n",
      "Verified Entry:  42\n",
      "Verified Entry:  43\n",
      "Verified Entry:  44\n",
      "Verified Entry:  45\n",
      "Verified Entry:  46\n",
      "Verified Entry:  47\n",
      "Verified Entry:  48\n",
      "Verified Entry:  49\n"
     ]
    }
   ],
   "source": [
    "attrition_yes = []\n",
    "attrition_no = []\n",
    "for j in unique_managers:\n",
    "    print(\"Manager: \"+j)\n",
    "    count_yes = 0\n",
    "    count_no = 0\n",
    "    for i in range(len(data['Interim Manager'])):\n",
    "        if (j == data['Interim Manager'][i]):\n",
    "            if (data['Attrition Status'][i] == \"Yes\"):\n",
    "                count_yes = count_yes + 1\n",
    "            else:\n",
    "                count_no = count_no + 1\n",
    "    attrition_yes.append(count_yes)\n",
    "    attrition_no.append(count_no)\n",
    "print(\"Verifying Numeric Entries!!..\")\n",
    "for i in range(len(unique_manager_count)):\n",
    "    if unique_manager_count[0] == (attrition_yes[0]+attrition_no[0]):\n",
    "        print(\"Verified Entry: \",+i)\n",
    "    else:\n",
    "        print(\"Discrepency spotted: \",+i)\n",
    "        \n",
    "    "
   ]
  },
  {
   "cell_type": "code",
   "execution_count": 12,
   "metadata": {},
   "outputs": [
    {
     "name": "stdout",
     "output_type": "stream",
     "text": [
      "Manager Name\tCount\tWorking\tLeft\tFoulIndex\n",
      "Timothy Mi \t214\t158\t56\t0.26\n",
      "Roy Chapma \t632\t371\t261\t0.41\t❌\n",
      "Ryan Shook \t196\t167\t29\t0.15\n",
      "Rita Owens \t254\t126\t128\t0.50\t❌\n",
      "William Mc \t163\t138\t25\t0.15\n",
      "John Kinse \t183\t150\t33\t0.18\n",
      "Mirella Sw \t223\t158\t65\t0.29\n",
      "Will Fried \t314\t150\t164\t0.52\t❌\n",
      "Karen Slye \t340\t149\t191\t0.56\t❌\n",
      "Frank Kani \t263\t149\t114\t0.43\t❌\n",
      "Doug Maddo \t197\t149\t48\t0.24\n",
      "Joe Moore \t213\t156\t57\t0.27\n",
      "Mary Mille \t224\t160\t64\t0.29\n",
      "Ryan Richa \t175\t155\t20\t0.11\n",
      "Sharon Wei \t182\t139\t43\t0.24\n",
      "William Ne \t170\t153\t17\t0.10\n",
      "Margarita  \t148\t141\t7\t0.05\n",
      "Joanne Nel \t384\t130\t254\t0.66\t❌\n",
      "Ann Hoffma \t150\t128\t22\t0.15\n",
      "Jeff Thurm \t185\t144\t41\t0.22\n",
      "Kerri Sand \t288\t154\t134\t0.47\t❌\n",
      "David Varg \t224\t155\t69\t0.31\n",
      "Linda Bish \t212\t157\t55\t0.26\n",
      "Barbara To \t168\t160\t8\t0.05\n",
      "Julius Wri \t350\t153\t197\t0.56\t❌\n",
      "Tanisha Ro \t148\t148\t0\t0.00\n",
      "James Lang \t169\t157\t12\t0.07\n",
      "Tonia Weav \t271\t159\t112\t0.41\t❌\n",
      "Adam Leyva \t214\t156\t58\t0.27\n",
      "Roy Woolf \t166\t141\t25\t0.15\n",
      "Dennis Dav \t220\t161\t59\t0.27\n",
      "Han Nichol \t385\t149\t236\t0.61\t❌\n",
      "Ralph Wool \t173\t158\t15\t0.09\n",
      "Stella Mck \t400\t157\t243\t0.61\t❌\n",
      "Steven Lan \t462\t148\t314\t0.68\t❌\n",
      "Barbara Me \t161\t150\t11\t0.07\n",
      "Eva Stefan \t317\t150\t167\t0.53\t❌\n",
      "Gerard Bel \t233\t162\t71\t0.30\n",
      "Sandra Mar \t192\t160\t32\t0.17\n",
      "Christine  \t231\t172\t59\t0.26\n",
      "Gene Lantz \t281\t164\t117\t0.42\t❌\n",
      "Betty Utte \t231\t151\t80\t0.35\n",
      "Aileen Pal \t162\t147\t15\t0.09\n",
      "Stacie Fre \t227\t137\t90\t0.40\t❌\n",
      "Samuel Kli \t200\t152\t48\t0.24\n",
      "Jean Schaf \t269\t154\t115\t0.43\t❌\n",
      "George Qui \t196\t158\t38\t0.19\n",
      "Joaquin Po \t260\t152\t108\t0.42\t❌\n",
      "Gayla Wojc \t176\t148\t28\t0.16\n",
      "Jane Jones \t204\t159\t45\t0.22\n"
     ]
    }
   ],
   "source": [
    "#Now. Let's Assume the average attrition rate to be 33%. Any Manager Contributing more than the Firm's Average will be bad.\n",
    "#This pattern will be reverse tracked using Tableau.\n",
    "bad_manager = []\n",
    "foul_index = []\n",
    "for i in range(len(unique_manager_count)):\n",
    "    #print(str(attrition_yes[i])+\"/\"+str(unique_manager_count[i]))\n",
    "    foul_index.append((attrition_yes[i]/unique_manager_count[i]))\n",
    "tracker = 0\n",
    "for i in range(len(unique_managers)):\n",
    "    if tracker == 0:\n",
    "        print(\"Manager Name\\tCount\\tWorking\\tLeft\\tFoulIndex\")\n",
    "        tracker = 1\n",
    "    if foul_index[i] > 0.35:\n",
    "        print(unique_managers[i][0:10],\"\\t\"+str(unique_manager_count[i])+\"\\t\"+str(attrition_no[i])+\"\\t\"+str(attrition_yes[i])+\"\\t\"+str(\"{:.2f}\".format(foul_index[i]))+\"\\t\\u274c\")    \n",
    "        bad_manager.append(unique_managers[i])\n",
    "    else:\n",
    "        print(unique_managers[i][0:10],\"\\t\"+str(unique_manager_count[i])+\"\\t\"+str(attrition_no[i])+\"\\t\"+str(attrition_yes[i])+\"\\t\"+str(\"{:.2f}\".format(foul_index[i])))"
   ]
  },
  {
   "cell_type": "code",
   "execution_count": 13,
   "metadata": {},
   "outputs": [
    {
     "name": "stdout",
     "output_type": "stream",
     "text": [
      "['Roy Chapman', 'Rita Owens', 'Will Friedman', 'Karen Slye', 'Frank Kanish', 'Joanne Nelson', 'Kerri Sanders', 'Julius Wright', 'Tonia Weaver', 'Han Nichols', 'Stella Mckoy', 'Steven Lane', 'Eva Stefanski', 'Gene Lantz', 'Stacie French', 'Jean Schafer', 'Joaquin Powell']\n"
     ]
    }
   ],
   "source": [
    "print(bad_manager)"
   ]
  },
  {
   "cell_type": "code",
   "execution_count": null,
   "metadata": {},
   "outputs": [],
   "source": [
    "#Ratings\n",
    "''' \n",
    "A - 4\n",
    "B - 3\n",
    "C - 2\n",
    "D - 1\n",
    "'''"
   ]
  },
  {
   "cell_type": "code",
   "execution_count": null,
   "metadata": {},
   "outputs": [],
   "source": []
  },
  {
   "cell_type": "code",
   "execution_count": null,
   "metadata": {},
   "outputs": [],
   "source": []
  }
 ],
 "metadata": {
  "kernelspec": {
   "display_name": "Python 3",
   "language": "python",
   "name": "python3"
  },
  "language_info": {
   "codemirror_mode": {
    "name": "ipython",
    "version": 3
   },
   "file_extension": ".py",
   "mimetype": "text/x-python",
   "name": "python",
   "nbconvert_exporter": "python",
   "pygments_lexer": "ipython3",
   "version": "3.7.4"
  }
 },
 "nbformat": 4,
 "nbformat_minor": 2
}
